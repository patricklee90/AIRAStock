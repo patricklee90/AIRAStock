{
  "nbformat": 4,
  "nbformat_minor": 0,
  "metadata": {
    "colab": {
      "name": "Algo Trading using MACD & Python.ipynb",
      "provenance": [],
      "collapsed_sections": []
    },
    "kernelspec": {
      "name": "python3",
      "display_name": "Python 3"
    }
  },
  "cells": [
    {
      "cell_type": "code",
      "metadata": {
        "id": "lOuuRZA6P2Mo",
        "colab_type": "code",
        "colab": {}
      },
      "source": [
        "# Description:  This program uses the Moving Average COnvergence/ Divergence(MACD) crossover\n",
        "#               to determine when to buy and sell stock."
      ],
      "execution_count": null,
      "outputs": []
    },
    {
      "cell_type": "code",
      "metadata": {
        "id": "-YecV5sxQUNN",
        "colab_type": "code",
        "colab": {}
      },
      "source": [
        "# Import the libraries\n",
        "import pandas as pd\n",
        "import numpy as np\n",
        "import matplotlib.pyplot as plt\n",
        "plt.style.use('fivethirtyeight')"
      ],
      "execution_count": 19,
      "outputs": []
    },
    {
      "cell_type": "code",
      "metadata": {
        "id": "uDpHBltaQdMW",
        "colab_type": "code",
        "colab": {
          "resources": {
            "http://localhost:8080/nbextensions/google.colab/files.js": {
              "data": "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",
              "ok": true,
              "headers": [
                [
                  "content-type",
                  "application/javascript"
                ]
              ],
              "status": 200,
              "status_text": ""
            }
          },
          "base_uri": "https://localhost:8080/",
          "height": 72
        },
        "outputId": "396bb988-8e5f-49b3-937a-ac7cf0c657c0"
      },
      "source": [
        "# Load the data\n",
        "from google.colab import files\n",
        "\n",
        "uploaded = files.upload()"
      ],
      "execution_count": 20,
      "outputs": [
        {
          "output_type": "display_data",
          "data": {
            "text/html": [
              "\n",
              "     <input type=\"file\" id=\"files-4218e585-1e0d-4e20-a8eb-da725f4a9c00\" name=\"files[]\" multiple disabled\n",
              "        style=\"border:none\" />\n",
              "     <output id=\"result-4218e585-1e0d-4e20-a8eb-da725f4a9c00\">\n",
              "      Upload widget is only available when the cell has been executed in the\n",
              "      current browser session. Please rerun this cell to enable.\n",
              "      </output>\n",
              "      <script src=\"/nbextensions/google.colab/files.js\"></script> "
            ],
            "text/plain": [
              "<IPython.core.display.HTML object>"
            ]
          },
          "metadata": {
            "tags": []
          }
        },
        {
          "output_type": "stream",
          "text": [
            "Saving AAPL_3M.csv to AAPL_3M.csv\n"
          ],
          "name": "stdout"
        }
      ]
    },
    {
      "cell_type": "code",
      "metadata": {
        "id": "uOWyDEUVQvb3",
        "colab_type": "code",
        "colab": {
          "base_uri": "https://localhost:8080/",
          "height": 419
        },
        "outputId": "34b473d7-efd1-470c-e238-02155378928d"
      },
      "source": [
        "# Store the data into a df\n",
        "df = pd.read_csv('AAPL_3M.csv')\n",
        "# Set the date to be the index\n",
        "df = df.set_index(pd.DatetimeIndex(df['Date'].values))\n",
        "\n",
        "df"
      ],
      "execution_count": 21,
      "outputs": [
        {
          "output_type": "execute_result",
          "data": {
            "text/html": [
              "<div>\n",
              "<style scoped>\n",
              "    .dataframe tbody tr th:only-of-type {\n",
              "        vertical-align: middle;\n",
              "    }\n",
              "\n",
              "    .dataframe tbody tr th {\n",
              "        vertical-align: top;\n",
              "    }\n",
              "\n",
              "    .dataframe thead th {\n",
              "        text-align: right;\n",
              "    }\n",
              "</style>\n",
              "<table border=\"1\" class=\"dataframe\">\n",
              "  <thead>\n",
              "    <tr style=\"text-align: right;\">\n",
              "      <th></th>\n",
              "      <th>Date</th>\n",
              "      <th>Open</th>\n",
              "      <th>High</th>\n",
              "      <th>Low</th>\n",
              "      <th>Close</th>\n",
              "      <th>Adj Close</th>\n",
              "      <th>Volume</th>\n",
              "    </tr>\n",
              "  </thead>\n",
              "  <tbody>\n",
              "    <tr>\n",
              "      <th>2020-05-18</th>\n",
              "      <td>2020-05-18</td>\n",
              "      <td>313.170013</td>\n",
              "      <td>316.500000</td>\n",
              "      <td>310.320007</td>\n",
              "      <td>314.959991</td>\n",
              "      <td>314.393127</td>\n",
              "      <td>33843100</td>\n",
              "    </tr>\n",
              "    <tr>\n",
              "      <th>2020-05-19</th>\n",
              "      <td>2020-05-19</td>\n",
              "      <td>315.029999</td>\n",
              "      <td>318.519989</td>\n",
              "      <td>313.010010</td>\n",
              "      <td>313.140015</td>\n",
              "      <td>312.576447</td>\n",
              "      <td>25432400</td>\n",
              "    </tr>\n",
              "    <tr>\n",
              "      <th>2020-05-20</th>\n",
              "      <td>2020-05-20</td>\n",
              "      <td>316.679993</td>\n",
              "      <td>319.519989</td>\n",
              "      <td>316.519989</td>\n",
              "      <td>319.230011</td>\n",
              "      <td>318.655487</td>\n",
              "      <td>27876200</td>\n",
              "    </tr>\n",
              "    <tr>\n",
              "      <th>2020-05-21</th>\n",
              "      <td>2020-05-21</td>\n",
              "      <td>318.660004</td>\n",
              "      <td>320.890015</td>\n",
              "      <td>315.869995</td>\n",
              "      <td>316.850006</td>\n",
              "      <td>316.279755</td>\n",
              "      <td>25672200</td>\n",
              "    </tr>\n",
              "    <tr>\n",
              "      <th>2020-05-22</th>\n",
              "      <td>2020-05-22</td>\n",
              "      <td>315.769989</td>\n",
              "      <td>319.230011</td>\n",
              "      <td>315.350006</td>\n",
              "      <td>318.890015</td>\n",
              "      <td>318.316101</td>\n",
              "      <td>20450800</td>\n",
              "    </tr>\n",
              "    <tr>\n",
              "      <th>...</th>\n",
              "      <td>...</td>\n",
              "      <td>...</td>\n",
              "      <td>...</td>\n",
              "      <td>...</td>\n",
              "      <td>...</td>\n",
              "      <td>...</td>\n",
              "      <td>...</td>\n",
              "    </tr>\n",
              "    <tr>\n",
              "      <th>2020-08-10</th>\n",
              "      <td>2020-08-10</td>\n",
              "      <td>450.399994</td>\n",
              "      <td>455.100006</td>\n",
              "      <td>440.000000</td>\n",
              "      <td>450.910004</td>\n",
              "      <td>450.910004</td>\n",
              "      <td>53100900</td>\n",
              "    </tr>\n",
              "    <tr>\n",
              "      <th>2020-08-11</th>\n",
              "      <td>2020-08-11</td>\n",
              "      <td>447.880005</td>\n",
              "      <td>449.929993</td>\n",
              "      <td>436.429993</td>\n",
              "      <td>437.500000</td>\n",
              "      <td>437.500000</td>\n",
              "      <td>46975600</td>\n",
              "    </tr>\n",
              "    <tr>\n",
              "      <th>2020-08-12</th>\n",
              "      <td>2020-08-12</td>\n",
              "      <td>441.989990</td>\n",
              "      <td>453.100006</td>\n",
              "      <td>441.190002</td>\n",
              "      <td>452.040009</td>\n",
              "      <td>452.040009</td>\n",
              "      <td>41486200</td>\n",
              "    </tr>\n",
              "    <tr>\n",
              "      <th>2020-08-13</th>\n",
              "      <td>2020-08-13</td>\n",
              "      <td>457.720001</td>\n",
              "      <td>464.170013</td>\n",
              "      <td>455.709991</td>\n",
              "      <td>460.040009</td>\n",
              "      <td>460.040009</td>\n",
              "      <td>52520500</td>\n",
              "    </tr>\n",
              "    <tr>\n",
              "      <th>2020-08-14</th>\n",
              "      <td>2020-08-14</td>\n",
              "      <td>459.320007</td>\n",
              "      <td>460.000000</td>\n",
              "      <td>452.179993</td>\n",
              "      <td>459.630005</td>\n",
              "      <td>459.630005</td>\n",
              "      <td>41352800</td>\n",
              "    </tr>\n",
              "  </tbody>\n",
              "</table>\n",
              "<p>63 rows × 7 columns</p>\n",
              "</div>"
            ],
            "text/plain": [
              "                  Date        Open  ...   Adj Close    Volume\n",
              "2020-05-18  2020-05-18  313.170013  ...  314.393127  33843100\n",
              "2020-05-19  2020-05-19  315.029999  ...  312.576447  25432400\n",
              "2020-05-20  2020-05-20  316.679993  ...  318.655487  27876200\n",
              "2020-05-21  2020-05-21  318.660004  ...  316.279755  25672200\n",
              "2020-05-22  2020-05-22  315.769989  ...  318.316101  20450800\n",
              "...                ...         ...  ...         ...       ...\n",
              "2020-08-10  2020-08-10  450.399994  ...  450.910004  53100900\n",
              "2020-08-11  2020-08-11  447.880005  ...  437.500000  46975600\n",
              "2020-08-12  2020-08-12  441.989990  ...  452.040009  41486200\n",
              "2020-08-13  2020-08-13  457.720001  ...  460.040009  52520500\n",
              "2020-08-14  2020-08-14  459.320007  ...  459.630005  41352800\n",
              "\n",
              "[63 rows x 7 columns]"
            ]
          },
          "metadata": {
            "tags": []
          },
          "execution_count": 21
        }
      ]
    },
    {
      "cell_type": "code",
      "metadata": {
        "id": "ldB3krQIRjJF",
        "colab_type": "code",
        "colab": {
          "base_uri": "https://localhost:8080/",
          "height": 351
        },
        "outputId": "4dbac4f8-9d69-4073-8b9c-beb28af3cbc3"
      },
      "source": [
        "# Visually show the stock price\n",
        "\n",
        "plt.figure(figsize=(12.2, 4.5))\n",
        "plt.plot(df['Close'], label='Close')\n",
        "plt.title('Close Price History')\n",
        "plt.xlabel('Date')\n",
        "plt.ylabel('Price USD ($)')\n",
        "plt.show()"
      ],
      "execution_count": 22,
      "outputs": [
        {
          "output_type": "display_data",
          "data": {
            "image/png": "[encoded data removed]",
            "text/plain": [
              "<Figure size 878.4x324 with 1 Axes>"
            ]
          },
          "metadata": {
            "tags": []
          }
        }
      ]
    },
    {
      "cell_type": "code",
      "metadata": {
        "id": "cFE8hsMXR_-D",
        "colab_type": "code",
        "colab": {}
      },
      "source": [
        "# Calculate the MAD and signal ine indicators\n",
        "# Calculate the short term exponential moving average (EMA)\n",
        "ShortEMA = df.Close.ewm(span=12, adjust=False).mean()\n",
        "# Calculate the long term exponential moving average (EMA)\n",
        "LongEMA = df.Close.ewm(span=26, adjust=False).mean()\n",
        "# Claculate the MACD line\n",
        "MACD = ShortEMA - LongEMA\n",
        "# Calcualte the signal line\n",
        "signal = MACD.ewm(span=9, adjust=False).mean()"
      ],
      "execution_count": 23,
      "outputs": []
    },
    {
      "cell_type": "code",
      "metadata": {
        "id": "JBN1NwsQS7Ym",
        "colab_type": "code",
        "colab": {
          "base_uri": "https://localhost:8080/",
          "height": 364
        },
        "outputId": "e1d904f1-7e5d-4f38-f66a-2e5caa0c4aa3"
      },
      "source": [
        "# Plot the chart\n",
        "plt.figure(figsize=(12.2, 4.5))\n",
        "plt.plot(df.index, MACD, label ='AAPL MACD', color='red')\n",
        "plt.plot(df.index, signal, label='Signal Line', color='blue')\n",
        "plt.xticks(rotation=45)\n",
        "plt.legend(loc='upper left')\n",
        "plt.show()"
      ],
      "execution_count": 24,
      "outputs": [
        {
          "output_type": "display_data",
          "data": {
            "image/png": "[encoded data removed]",
            "text/plain": [
              "<Figure size 878.4x324 with 1 Axes>"
            ]
          },
          "metadata": {
            "tags": []
          }
        }
      ]
    },
    {
      "cell_type": "code",
      "metadata": {
        "id": "eeZaCRy8TSQm",
        "colab_type": "code",
        "colab": {
          "base_uri": "https://localhost:8080/",
          "height": 606
        },
        "outputId": "eeed5c71-bd76-4ac4-a1aa-9a1c0a0f1b78"
      },
      "source": [
        "# Create the new columns for the data\n",
        "df['MACD'] = MACD\n",
        "df['Signal Line'] = signal\n",
        "# Show the data\n",
        "df"
      ],
      "execution_count": 25,
      "outputs": [
        {
          "output_type": "execute_result",
          "data": {
            "text/html": [
              "<div>\n",
              "<style scoped>\n",
              "    .dataframe tbody tr th:only-of-type {\n",
              "        vertical-align: middle;\n",
              "    }\n",
              "\n",
              "    .dataframe tbody tr th {\n",
              "        vertical-align: top;\n",
              "    }\n",
              "\n",
              "    .dataframe thead th {\n",
              "        text-align: right;\n",
              "    }\n",
              "</style>\n",
              "<table border=\"1\" class=\"dataframe\">\n",
              "  <thead>\n",
              "    <tr style=\"text-align: right;\">\n",
              "      <th></th>\n",
              "      <th>Date</th>\n",
              "      <th>Open</th>\n",
              "      <th>High</th>\n",
              "      <th>Low</th>\n",
              "      <th>Close</th>\n",
              "      <th>Adj Close</th>\n",
              "      <th>Volume</th>\n",
              "      <th>MACD</th>\n",
              "      <th>Signal Line</th>\n",
              "    </tr>\n",
              "  </thead>\n",
              "  <tbody>\n",
              "    <tr>\n",
              "      <th>2020-05-18</th>\n",
              "      <td>2020-05-18</td>\n",
              "      <td>313.170013</td>\n",
              "      <td>316.500000</td>\n",
              "      <td>310.320007</td>\n",
              "      <td>314.959991</td>\n",
              "      <td>314.393127</td>\n",
              "      <td>33843100</td>\n",
              "      <td>0.000000</td>\n",
              "      <td>0.000000</td>\n",
              "    </tr>\n",
              "    <tr>\n",
              "      <th>2020-05-19</th>\n",
              "      <td>2020-05-19</td>\n",
              "      <td>315.029999</td>\n",
              "      <td>318.519989</td>\n",
              "      <td>313.010010</td>\n",
              "      <td>313.140015</td>\n",
              "      <td>312.576447</td>\n",
              "      <td>25432400</td>\n",
              "      <td>-0.145183</td>\n",
              "      <td>-0.029037</td>\n",
              "    </tr>\n",
              "    <tr>\n",
              "      <th>2020-05-20</th>\n",
              "      <td>2020-05-20</td>\n",
              "      <td>316.679993</td>\n",
              "      <td>319.519989</td>\n",
              "      <td>316.519989</td>\n",
              "      <td>319.230011</td>\n",
              "      <td>318.655487</td>\n",
              "      <td>27876200</td>\n",
              "      <td>0.228535</td>\n",
              "      <td>0.022478</td>\n",
              "    </tr>\n",
              "    <tr>\n",
              "      <th>2020-05-21</th>\n",
              "      <td>2020-05-21</td>\n",
              "      <td>318.660004</td>\n",
              "      <td>320.890015</td>\n",
              "      <td>315.869995</td>\n",
              "      <td>316.850006</td>\n",
              "      <td>316.279755</td>\n",
              "      <td>25672200</td>\n",
              "      <td>0.328872</td>\n",
              "      <td>0.083757</td>\n",
              "    </tr>\n",
              "    <tr>\n",
              "      <th>2020-05-22</th>\n",
              "      <td>2020-05-22</td>\n",
              "      <td>315.769989</td>\n",
              "      <td>319.230011</td>\n",
              "      <td>315.350006</td>\n",
              "      <td>318.890015</td>\n",
              "      <td>318.316101</td>\n",
              "      <td>20450800</td>\n",
              "      <td>0.566472</td>\n",
              "      <td>0.180300</td>\n",
              "    </tr>\n",
              "    <tr>\n",
              "      <th>...</th>\n",
              "      <td>...</td>\n",
              "      <td>...</td>\n",
              "      <td>...</td>\n",
              "      <td>...</td>\n",
              "      <td>...</td>\n",
              "      <td>...</td>\n",
              "      <td>...</td>\n",
              "      <td>...</td>\n",
              "      <td>...</td>\n",
              "    </tr>\n",
              "    <tr>\n",
              "      <th>2020-08-10</th>\n",
              "      <td>2020-08-10</td>\n",
              "      <td>450.399994</td>\n",
              "      <td>455.100006</td>\n",
              "      <td>440.000000</td>\n",
              "      <td>450.910004</td>\n",
              "      <td>450.910004</td>\n",
              "      <td>53100900</td>\n",
              "      <td>21.616366</td>\n",
              "      <td>16.193362</td>\n",
              "    </tr>\n",
              "    <tr>\n",
              "      <th>2020-08-11</th>\n",
              "      <td>2020-08-11</td>\n",
              "      <td>447.880005</td>\n",
              "      <td>449.929993</td>\n",
              "      <td>436.429993</td>\n",
              "      <td>437.500000</td>\n",
              "      <td>437.500000</td>\n",
              "      <td>46975600</td>\n",
              "      <td>21.083247</td>\n",
              "      <td>17.171339</td>\n",
              "    </tr>\n",
              "    <tr>\n",
              "      <th>2020-08-12</th>\n",
              "      <td>2020-08-12</td>\n",
              "      <td>441.989990</td>\n",
              "      <td>453.100006</td>\n",
              "      <td>441.190002</td>\n",
              "      <td>452.040009</td>\n",
              "      <td>452.040009</td>\n",
              "      <td>41486200</td>\n",
              "      <td>21.585183</td>\n",
              "      <td>18.054108</td>\n",
              "    </tr>\n",
              "    <tr>\n",
              "      <th>2020-08-13</th>\n",
              "      <td>2020-08-13</td>\n",
              "      <td>457.720001</td>\n",
              "      <td>464.170013</td>\n",
              "      <td>455.709991</td>\n",
              "      <td>460.040009</td>\n",
              "      <td>460.040009</td>\n",
              "      <td>52520500</td>\n",
              "      <td>22.370629</td>\n",
              "      <td>18.917412</td>\n",
              "    </tr>\n",
              "    <tr>\n",
              "      <th>2020-08-14</th>\n",
              "      <td>2020-08-14</td>\n",
              "      <td>459.320007</td>\n",
              "      <td>460.000000</td>\n",
              "      <td>452.179993</td>\n",
              "      <td>459.630005</td>\n",
              "      <td>459.630005</td>\n",
              "      <td>41352800</td>\n",
              "      <td>22.698364</td>\n",
              "      <td>19.673602</td>\n",
              "    </tr>\n",
              "  </tbody>\n",
              "</table>\n",
              "<p>63 rows × 9 columns</p>\n",
              "</div>"
            ],
            "text/plain": [
              "                  Date        Open  ...       MACD  Signal Line\n",
              "2020-05-18  2020-05-18  313.170013  ...   0.000000     0.000000\n",
              "2020-05-19  2020-05-19  315.029999  ...  -0.145183    -0.029037\n",
              "2020-05-20  2020-05-20  316.679993  ...   0.228535     0.022478\n",
              "2020-05-21  2020-05-21  318.660004  ...   0.328872     0.083757\n",
              "2020-05-22  2020-05-22  315.769989  ...   0.566472     0.180300\n",
              "...                ...         ...  ...        ...          ...\n",
              "2020-08-10  2020-08-10  450.399994  ...  21.616366    16.193362\n",
              "2020-08-11  2020-08-11  447.880005  ...  21.083247    17.171339\n",
              "2020-08-12  2020-08-12  441.989990  ...  21.585183    18.054108\n",
              "2020-08-13  2020-08-13  457.720001  ...  22.370629    18.917412\n",
              "2020-08-14  2020-08-14  459.320007  ...  22.698364    19.673602\n",
              "\n",
              "[63 rows x 9 columns]"
            ]
          },
          "metadata": {
            "tags": []
          },
          "execution_count": 25
        }
      ]
    },
    {
      "cell_type": "code",
      "metadata": {
        "id": "9EOQvYuY0WSP",
        "colab_type": "code",
        "colab": {}
      },
      "source": [
        "# Create a function to signal when to buy and sell an asset\n",
        "def buy_sell(signal):\n",
        "  Buy = []\n",
        "  Sell = []\n",
        "  flag = -1\n",
        "\n",
        "  for i in range(0, len(signal)):\n",
        "    if signal['MACD'][i] > signal['Signal Line'][i]:\n",
        "      Sell.append(np.nan)\n",
        "      if flag != 1:\n",
        "        Buy.append(signal['Close'][i])\n",
        "        flag = 1\n",
        "      else:\n",
        "        Buy.append(np.nan)\n",
        "    elif signal['MACD'][i] < signal['Signal Line'][i]:\n",
        "      Buy.append(np.nan)\n",
        "      if flag != 0:\n",
        "        Sell.append(signal['Close'][i])\n",
        "        flag = 0\n",
        "      else:\n",
        "        Sell.append(np.nan)\n",
        "    else:\n",
        "      Buy.append(np.nan)\n",
        "      Sell.append(np.nan)\n",
        "\n",
        "  return (Buy,Sell)"
      ],
      "execution_count": 26,
      "outputs": []
    },
    {
      "cell_type": "code",
      "metadata": {
        "id": "pPx0FaCI1hna",
        "colab_type": "code",
        "colab": {}
      },
      "source": [
        "# Create buy and sell column \n",
        "a = buy_sell(df)\n",
        "df['Buy_Signal_Price'] = a[0]\n",
        "df['Sell_Signal_Price'] = a[1]"
      ],
      "execution_count": 27,
      "outputs": []
    },
    {
      "cell_type": "code",
      "metadata": {
        "id": "s6mgEeXN1uXe",
        "colab_type": "code",
        "colab": {
          "base_uri": "https://localhost:8080/",
          "height": 626
        },
        "outputId": "409f64fe-c66f-40e9-cd33-29d1f5cc090d"
      },
      "source": [
        "# Show the data\n",
        "df"
      ],
      "execution_count": 28,
      "outputs": [
        {
          "output_type": "execute_result",
          "data": {
            "text/html": [
              "<div>\n",
              "<style scoped>\n",
              "    .dataframe tbody tr th:only-of-type {\n",
              "        vertical-align: middle;\n",
              "    }\n",
              "\n",
              "    .dataframe tbody tr th {\n",
              "        vertical-align: top;\n",
              "    }\n",
              "\n",
              "    .dataframe thead th {\n",
              "        text-align: right;\n",
              "    }\n",
              "</style>\n",
              "<table border=\"1\" class=\"dataframe\">\n",
              "  <thead>\n",
              "    <tr style=\"text-align: right;\">\n",
              "      <th></th>\n",
              "      <th>Date</th>\n",
              "      <th>Open</th>\n",
              "      <th>High</th>\n",
              "      <th>Low</th>\n",
              "      <th>Close</th>\n",
              "      <th>Adj Close</th>\n",
              "      <th>Volume</th>\n",
              "      <th>MACD</th>\n",
              "      <th>Signal Line</th>\n",
              "      <th>Buy_Signal_Price</th>\n",
              "      <th>Sell_Signal_Price</th>\n",
              "    </tr>\n",
              "  </thead>\n",
              "  <tbody>\n",
              "    <tr>\n",
              "      <th>2020-05-18</th>\n",
              "      <td>2020-05-18</td>\n",
              "      <td>313.170013</td>\n",
              "      <td>316.500000</td>\n",
              "      <td>310.320007</td>\n",
              "      <td>314.959991</td>\n",
              "      <td>314.393127</td>\n",
              "      <td>33843100</td>\n",
              "      <td>0.000000</td>\n",
              "      <td>0.000000</td>\n",
              "      <td>NaN</td>\n",
              "      <td>NaN</td>\n",
              "    </tr>\n",
              "    <tr>\n",
              "      <th>2020-05-19</th>\n",
              "      <td>2020-05-19</td>\n",
              "      <td>315.029999</td>\n",
              "      <td>318.519989</td>\n",
              "      <td>313.010010</td>\n",
              "      <td>313.140015</td>\n",
              "      <td>312.576447</td>\n",
              "      <td>25432400</td>\n",
              "      <td>-0.145183</td>\n",
              "      <td>-0.029037</td>\n",
              "      <td>NaN</td>\n",
              "      <td>313.140015</td>\n",
              "    </tr>\n",
              "    <tr>\n",
              "      <th>2020-05-20</th>\n",
              "      <td>2020-05-20</td>\n",
              "      <td>316.679993</td>\n",
              "      <td>319.519989</td>\n",
              "      <td>316.519989</td>\n",
              "      <td>319.230011</td>\n",
              "      <td>318.655487</td>\n",
              "      <td>27876200</td>\n",
              "      <td>0.228535</td>\n",
              "      <td>0.022478</td>\n",
              "      <td>319.230011</td>\n",
              "      <td>NaN</td>\n",
              "    </tr>\n",
              "    <tr>\n",
              "      <th>2020-05-21</th>\n",
              "      <td>2020-05-21</td>\n",
              "      <td>318.660004</td>\n",
              "      <td>320.890015</td>\n",
              "      <td>315.869995</td>\n",
              "      <td>316.850006</td>\n",
              "      <td>316.279755</td>\n",
              "      <td>25672200</td>\n",
              "      <td>0.328872</td>\n",
              "      <td>0.083757</td>\n",
              "      <td>NaN</td>\n",
              "      <td>NaN</td>\n",
              "    </tr>\n",
              "    <tr>\n",
              "      <th>2020-05-22</th>\n",
              "      <td>2020-05-22</td>\n",
              "      <td>315.769989</td>\n",
              "      <td>319.230011</td>\n",
              "      <td>315.350006</td>\n",
              "      <td>318.890015</td>\n",
              "      <td>318.316101</td>\n",
              "      <td>20450800</td>\n",
              "      <td>0.566472</td>\n",
              "      <td>0.180300</td>\n",
              "      <td>NaN</td>\n",
              "      <td>NaN</td>\n",
              "    </tr>\n",
              "    <tr>\n",
              "      <th>...</th>\n",
              "      <td>...</td>\n",
              "      <td>...</td>\n",
              "      <td>...</td>\n",
              "      <td>...</td>\n",
              "      <td>...</td>\n",
              "      <td>...</td>\n",
              "      <td>...</td>\n",
              "      <td>...</td>\n",
              "      <td>...</td>\n",
              "      <td>...</td>\n",
              "      <td>...</td>\n",
              "    </tr>\n",
              "    <tr>\n",
              "      <th>2020-08-10</th>\n",
              "      <td>2020-08-10</td>\n",
              "      <td>450.399994</td>\n",
              "      <td>455.100006</td>\n",
              "      <td>440.000000</td>\n",
              "      <td>450.910004</td>\n",
              "      <td>450.910004</td>\n",
              "      <td>53100900</td>\n",
              "      <td>21.616366</td>\n",
              "      <td>16.193362</td>\n",
              "      <td>NaN</td>\n",
              "      <td>NaN</td>\n",
              "    </tr>\n",
              "    <tr>\n",
              "      <th>2020-08-11</th>\n",
              "      <td>2020-08-11</td>\n",
              "      <td>447.880005</td>\n",
              "      <td>449.929993</td>\n",
              "      <td>436.429993</td>\n",
              "      <td>437.500000</td>\n",
              "      <td>437.500000</td>\n",
              "      <td>46975600</td>\n",
              "      <td>21.083247</td>\n",
              "      <td>17.171339</td>\n",
              "      <td>NaN</td>\n",
              "      <td>NaN</td>\n",
              "    </tr>\n",
              "    <tr>\n",
              "      <th>2020-08-12</th>\n",
              "      <td>2020-08-12</td>\n",
              "      <td>441.989990</td>\n",
              "      <td>453.100006</td>\n",
              "      <td>441.190002</td>\n",
              "      <td>452.040009</td>\n",
              "      <td>452.040009</td>\n",
              "      <td>41486200</td>\n",
              "      <td>21.585183</td>\n",
              "      <td>18.054108</td>\n",
              "      <td>NaN</td>\n",
              "      <td>NaN</td>\n",
              "    </tr>\n",
              "    <tr>\n",
              "      <th>2020-08-13</th>\n",
              "      <td>2020-08-13</td>\n",
              "      <td>457.720001</td>\n",
              "      <td>464.170013</td>\n",
              "      <td>455.709991</td>\n",
              "      <td>460.040009</td>\n",
              "      <td>460.040009</td>\n",
              "      <td>52520500</td>\n",
              "      <td>22.370629</td>\n",
              "      <td>18.917412</td>\n",
              "      <td>NaN</td>\n",
              "      <td>NaN</td>\n",
              "    </tr>\n",
              "    <tr>\n",
              "      <th>2020-08-14</th>\n",
              "      <td>2020-08-14</td>\n",
              "      <td>459.320007</td>\n",
              "      <td>460.000000</td>\n",
              "      <td>452.179993</td>\n",
              "      <td>459.630005</td>\n",
              "      <td>459.630005</td>\n",
              "      <td>41352800</td>\n",
              "      <td>22.698364</td>\n",
              "      <td>19.673602</td>\n",
              "      <td>NaN</td>\n",
              "      <td>NaN</td>\n",
              "    </tr>\n",
              "  </tbody>\n",
              "</table>\n",
              "<p>63 rows × 11 columns</p>\n",
              "</div>"
            ],
            "text/plain": [
              "                  Date        Open  ...  Buy_Signal_Price  Sell_Signal_Price\n",
              "2020-05-18  2020-05-18  313.170013  ...               NaN                NaN\n",
              "2020-05-19  2020-05-19  315.029999  ...               NaN         313.140015\n",
              "2020-05-20  2020-05-20  316.679993  ...        319.230011                NaN\n",
              "2020-05-21  2020-05-21  318.660004  ...               NaN                NaN\n",
              "2020-05-22  2020-05-22  315.769989  ...               NaN                NaN\n",
              "...                ...         ...  ...               ...                ...\n",
              "2020-08-10  2020-08-10  450.399994  ...               NaN                NaN\n",
              "2020-08-11  2020-08-11  447.880005  ...               NaN                NaN\n",
              "2020-08-12  2020-08-12  441.989990  ...               NaN                NaN\n",
              "2020-08-13  2020-08-13  457.720001  ...               NaN                NaN\n",
              "2020-08-14  2020-08-14  459.320007  ...               NaN                NaN\n",
              "\n",
              "[63 rows x 11 columns]"
            ]
          },
          "metadata": {
            "tags": []
          },
          "execution_count": 28
        }
      ]
    },
    {
      "cell_type": "code",
      "metadata": {
        "id": "vteErsqY1yhy",
        "colab_type": "code",
        "colab": {
          "base_uri": "https://localhost:8080/",
          "height": 407
        },
        "outputId": "fa7ebc48-0a2b-4c32-9fbc-57de9c4076f1"
      },
      "source": [
        "# Visually show the stock buy and sell signal\n",
        "plt.figure(figsize=(12.2, 4.5))\n",
        "plt.scatter(df.index, df['Buy_Signal_Price'], color='green', label='Buy', marker='^', alpha=1)\n",
        "plt.scatter(df.index, df['Sell_Signal_Price'], color='red', label='Sell', marker='v', alpha=1)\n",
        "plt.plot(df['Close'], label='Close Price', alpha=0.35)\n",
        "plt.title('Close Price Buy and Sell Signals')\n",
        "plt.xticks(rotation=45)\n",
        "plt.xlabel('Date')\n",
        "plt.ylabel('Close Price USD ($)')\n",
        "plt.legend(loc='upper left')\n",
        "plt.show()"
      ],
      "execution_count": 29,
      "outputs": [
        {
          "output_type": "display_data",
          "data": {
            "image/png": "[encoded data removed]",
            "text/plain": [
              "<Figure size 878.4x324 with 1 Axes>"
            ]
          },
          "metadata": {
            "tags": []
          }
        }
      ]
    },
    {
      "cell_type": "code",
      "metadata": {
        "id": "5fq5S5ni2hze",
        "colab_type": "code",
        "colab": {}
      },
      "source": [
        ""
      ],
      "execution_count": null,
      "outputs": []
    }
  ]
}