{
  "nbformat": 4,
  "nbformat_minor": 0,
  "metadata": {
    "colab": {
      "name": "12 - Predict FB with SVR.ipynb",
      "provenance": [],
      "collapsed_sections": []
    },
    "kernelspec": {
      "name": "python3",
      "display_name": "Python 3"
    }
  },
  "cells": [
    {
      "cell_type": "code",
      "metadata": {
        "id": "klDtodMbg4ES",
        "colab_type": "code",
        "colab": {}
      },
      "source": [
        "# Description: This program predicts the price of FB stock for a specific day"
      ],
      "execution_count": 1,
      "outputs": []
    },
    {
      "cell_type": "code",
      "metadata": {
        "id": "ymzjg4HeiM5J",
        "colab_type": "code",
        "colab": {}
      },
      "source": [
        "# Import the libraries\n",
        "from sklearn.svm import SVR\n",
        "import numpy as np\n",
        "import pandas as pd\n",
        "import matplotlib.pyplot as plt\n",
        "plt.style.use('fivethirtyeight')"
      ],
      "execution_count": 2,
      "outputs": []
    },
    {
      "cell_type": "code",
      "metadata": {
        "id": "KX6P0QoiiYH0",
        "colab_type": "code",
        "colab": {
          "resources": {
            "http://localhost:8080/nbextensions/google.colab/files.js": {
              "data": "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",
              "ok": true,
              "headers": [
                [
                  "content-type",
                  "application/javascript"
                ]
              ],
              "status": 200,
              "status_text": ""
            }
          },
          "base_uri": "https://localhost:8080/",
          "height": 72
        },
        "outputId": "1856d859-2226-4266-85b5-f7001bf3ab6a"
      },
      "source": [
        "# Load the data\n",
        "from google.colab import files\n",
        "uploaded = files.upload()"
      ],
      "execution_count": 30,
      "outputs": [
        {
          "output_type": "display_data",
          "data": {
            "text/html": [
              "\n",
              "     <input type=\"file\" id=\"files-d11f15eb-6030-4111-be51-5c88f6dd072c\" name=\"files[]\" multiple disabled\n",
              "        style=\"border:none\" />\n",
              "     <output id=\"result-d11f15eb-6030-4111-be51-5c88f6dd072c\">\n",
              "      Upload widget is only available when the cell has been executed in the\n",
              "      current browser session. Please rerun this cell to enable.\n",
              "      </output>\n",
              "      <script src=\"/nbextensions/google.colab/files.js\"></script> "
            ],
            "text/plain": [
              "<IPython.core.display.HTML object>"
            ]
          },
          "metadata": {
            "tags": []
          }
        },
        {
          "output_type": "stream",
          "text": [
            "Saving FB_1M_july20.csv to FB_1M_july20.csv\n"
          ],
          "name": "stdout"
        }
      ]
    },
    {
      "cell_type": "code",
      "metadata": {
        "id": "AqZ7L70Ciijt",
        "colab_type": "code",
        "colab": {
          "base_uri": "https://localhost:8080/",
          "height": 700
        },
        "outputId": "122f873e-5e93-4f7f-90d5-4b880ae34331"
      },
      "source": [
        "# Store and show the data\n",
        "df = pd.read_csv('FB_1M_july20.csv')\n",
        "df "
      ],
      "execution_count": 31,
      "outputs": [
        {
          "output_type": "execute_result",
          "data": {
            "text/html": [
              "<div>\n",
              "<style scoped>\n",
              "    .dataframe tbody tr th:only-of-type {\n",
              "        vertical-align: middle;\n",
              "    }\n",
              "\n",
              "    .dataframe tbody tr th {\n",
              "        vertical-align: top;\n",
              "    }\n",
              "\n",
              "    .dataframe thead th {\n",
              "        text-align: right;\n",
              "    }\n",
              "</style>\n",
              "<table border=\"1\" class=\"dataframe\">\n",
              "  <thead>\n",
              "    <tr style=\"text-align: right;\">\n",
              "      <th></th>\n",
              "      <th>Date</th>\n",
              "      <th>Open</th>\n",
              "      <th>High</th>\n",
              "      <th>Low</th>\n",
              "      <th>Close</th>\n",
              "      <th>Adj Close</th>\n",
              "      <th>Volume</th>\n",
              "    </tr>\n",
              "  </thead>\n",
              "  <tbody>\n",
              "    <tr>\n",
              "      <th>0</th>\n",
              "      <td>2020-07-01</td>\n",
              "      <td>228.500000</td>\n",
              "      <td>239.000000</td>\n",
              "      <td>227.559998</td>\n",
              "      <td>237.550003</td>\n",
              "      <td>237.550003</td>\n",
              "      <td>43399700</td>\n",
              "    </tr>\n",
              "    <tr>\n",
              "      <th>1</th>\n",
              "      <td>2020-07-02</td>\n",
              "      <td>239.000000</td>\n",
              "      <td>240.000000</td>\n",
              "      <td>232.610001</td>\n",
              "      <td>233.419998</td>\n",
              "      <td>233.419998</td>\n",
              "      <td>30633600</td>\n",
              "    </tr>\n",
              "    <tr>\n",
              "      <th>2</th>\n",
              "      <td>2020-07-06</td>\n",
              "      <td>233.759995</td>\n",
              "      <td>240.399994</td>\n",
              "      <td>232.270004</td>\n",
              "      <td>240.279999</td>\n",
              "      <td>240.279999</td>\n",
              "      <td>26206200</td>\n",
              "    </tr>\n",
              "    <tr>\n",
              "      <th>3</th>\n",
              "      <td>2020-07-07</td>\n",
              "      <td>239.410004</td>\n",
              "      <td>247.649994</td>\n",
              "      <td>238.820007</td>\n",
              "      <td>240.860001</td>\n",
              "      <td>240.860001</td>\n",
              "      <td>27887800</td>\n",
              "    </tr>\n",
              "    <tr>\n",
              "      <th>4</th>\n",
              "      <td>2020-07-08</td>\n",
              "      <td>238.110001</td>\n",
              "      <td>246.990005</td>\n",
              "      <td>236.589996</td>\n",
              "      <td>243.580002</td>\n",
              "      <td>243.580002</td>\n",
              "      <td>29791300</td>\n",
              "    </tr>\n",
              "    <tr>\n",
              "      <th>5</th>\n",
              "      <td>2020-07-09</td>\n",
              "      <td>245.000000</td>\n",
              "      <td>246.529999</td>\n",
              "      <td>239.240005</td>\n",
              "      <td>244.500000</td>\n",
              "      <td>244.500000</td>\n",
              "      <td>22174900</td>\n",
              "    </tr>\n",
              "    <tr>\n",
              "      <th>6</th>\n",
              "      <td>2020-07-10</td>\n",
              "      <td>243.690002</td>\n",
              "      <td>245.490005</td>\n",
              "      <td>239.320007</td>\n",
              "      <td>245.070007</td>\n",
              "      <td>245.070007</td>\n",
              "      <td>22982700</td>\n",
              "    </tr>\n",
              "    <tr>\n",
              "      <th>7</th>\n",
              "      <td>2020-07-13</td>\n",
              "      <td>247.009995</td>\n",
              "      <td>250.149994</td>\n",
              "      <td>238.419998</td>\n",
              "      <td>239.000000</td>\n",
              "      <td>239.000000</td>\n",
              "      <td>24674900</td>\n",
              "    </tr>\n",
              "    <tr>\n",
              "      <th>8</th>\n",
              "      <td>2020-07-14</td>\n",
              "      <td>236.759995</td>\n",
              "      <td>240.330002</td>\n",
              "      <td>232.029999</td>\n",
              "      <td>239.729996</td>\n",
              "      <td>239.729996</td>\n",
              "      <td>23378100</td>\n",
              "    </tr>\n",
              "    <tr>\n",
              "      <th>9</th>\n",
              "      <td>2020-07-15</td>\n",
              "      <td>241.550003</td>\n",
              "      <td>244.820007</td>\n",
              "      <td>238.050003</td>\n",
              "      <td>240.279999</td>\n",
              "      <td>240.279999</td>\n",
              "      <td>19133600</td>\n",
              "    </tr>\n",
              "    <tr>\n",
              "      <th>10</th>\n",
              "      <td>2020-07-16</td>\n",
              "      <td>238.000000</td>\n",
              "      <td>241.759995</td>\n",
              "      <td>236.330002</td>\n",
              "      <td>240.929993</td>\n",
              "      <td>240.929993</td>\n",
              "      <td>18880700</td>\n",
              "    </tr>\n",
              "    <tr>\n",
              "      <th>11</th>\n",
              "      <td>2020-07-17</td>\n",
              "      <td>241.000000</td>\n",
              "      <td>244.160004</td>\n",
              "      <td>237.860001</td>\n",
              "      <td>242.029999</td>\n",
              "      <td>242.029999</td>\n",
              "      <td>18152400</td>\n",
              "    </tr>\n",
              "    <tr>\n",
              "      <th>12</th>\n",
              "      <td>2020-07-20</td>\n",
              "      <td>240.059998</td>\n",
              "      <td>246.050003</td>\n",
              "      <td>235.639999</td>\n",
              "      <td>245.419998</td>\n",
              "      <td>245.419998</td>\n",
              "      <td>20872200</td>\n",
              "    </tr>\n",
              "    <tr>\n",
              "      <th>13</th>\n",
              "      <td>2020-07-21</td>\n",
              "      <td>246.220001</td>\n",
              "      <td>246.910004</td>\n",
              "      <td>240.080002</td>\n",
              "      <td>241.750000</td>\n",
              "      <td>241.750000</td>\n",
              "      <td>19409700</td>\n",
              "    </tr>\n",
              "    <tr>\n",
              "      <th>14</th>\n",
              "      <td>2020-07-22</td>\n",
              "      <td>240.259995</td>\n",
              "      <td>241.899994</td>\n",
              "      <td>238.119995</td>\n",
              "      <td>239.869995</td>\n",
              "      <td>239.869995</td>\n",
              "      <td>15427900</td>\n",
              "    </tr>\n",
              "    <tr>\n",
              "      <th>15</th>\n",
              "      <td>2020-07-23</td>\n",
              "      <td>239.630005</td>\n",
              "      <td>242.419998</td>\n",
              "      <td>231.750000</td>\n",
              "      <td>232.600006</td>\n",
              "      <td>232.600006</td>\n",
              "      <td>21771800</td>\n",
              "    </tr>\n",
              "    <tr>\n",
              "      <th>16</th>\n",
              "      <td>2020-07-24</td>\n",
              "      <td>230.190002</td>\n",
              "      <td>233.490005</td>\n",
              "      <td>226.899994</td>\n",
              "      <td>230.710007</td>\n",
              "      <td>230.710007</td>\n",
              "      <td>18325800</td>\n",
              "    </tr>\n",
              "    <tr>\n",
              "      <th>17</th>\n",
              "      <td>2020-07-27</td>\n",
              "      <td>231.460007</td>\n",
              "      <td>234.949997</td>\n",
              "      <td>230.830002</td>\n",
              "      <td>233.500000</td>\n",
              "      <td>233.500000</td>\n",
              "      <td>13163100</td>\n",
              "    </tr>\n",
              "    <tr>\n",
              "      <th>18</th>\n",
              "      <td>2020-07-28</td>\n",
              "      <td>234.630005</td>\n",
              "      <td>234.960007</td>\n",
              "      <td>229.830002</td>\n",
              "      <td>230.119995</td>\n",
              "      <td>230.119995</td>\n",
              "      <td>14170100</td>\n",
              "    </tr>\n",
              "    <tr>\n",
              "      <th>19</th>\n",
              "      <td>2020-07-29</td>\n",
              "      <td>231.139999</td>\n",
              "      <td>233.699997</td>\n",
              "      <td>230.309998</td>\n",
              "      <td>233.289993</td>\n",
              "      <td>233.289993</td>\n",
              "      <td>13588300</td>\n",
              "    </tr>\n",
              "    <tr>\n",
              "      <th>20</th>\n",
              "      <td>2020-07-30</td>\n",
              "      <td>230.220001</td>\n",
              "      <td>234.889999</td>\n",
              "      <td>229.000000</td>\n",
              "      <td>234.500000</td>\n",
              "      <td>234.500000</td>\n",
              "      <td>20615300</td>\n",
              "    </tr>\n",
              "  </tbody>\n",
              "</table>\n",
              "</div>"
            ],
            "text/plain": [
              "          Date        Open        High  ...       Close   Adj Close    Volume\n",
              "0   2020-07-01  228.500000  239.000000  ...  237.550003  237.550003  43399700\n",
              "1   2020-07-02  239.000000  240.000000  ...  233.419998  233.419998  30633600\n",
              "2   2020-07-06  233.759995  240.399994  ...  240.279999  240.279999  26206200\n",
              "3   2020-07-07  239.410004  247.649994  ...  240.860001  240.860001  27887800\n",
              "4   2020-07-08  238.110001  246.990005  ...  243.580002  243.580002  29791300\n",
              "5   2020-07-09  245.000000  246.529999  ...  244.500000  244.500000  22174900\n",
              "6   2020-07-10  243.690002  245.490005  ...  245.070007  245.070007  22982700\n",
              "7   2020-07-13  247.009995  250.149994  ...  239.000000  239.000000  24674900\n",
              "8   2020-07-14  236.759995  240.330002  ...  239.729996  239.729996  23378100\n",
              "9   2020-07-15  241.550003  244.820007  ...  240.279999  240.279999  19133600\n",
              "10  2020-07-16  238.000000  241.759995  ...  240.929993  240.929993  18880700\n",
              "11  2020-07-17  241.000000  244.160004  ...  242.029999  242.029999  18152400\n",
              "12  2020-07-20  240.059998  246.050003  ...  245.419998  245.419998  20872200\n",
              "13  2020-07-21  246.220001  246.910004  ...  241.750000  241.750000  19409700\n",
              "14  2020-07-22  240.259995  241.899994  ...  239.869995  239.869995  15427900\n",
              "15  2020-07-23  239.630005  242.419998  ...  232.600006  232.600006  21771800\n",
              "16  2020-07-24  230.190002  233.490005  ...  230.710007  230.710007  18325800\n",
              "17  2020-07-27  231.460007  234.949997  ...  233.500000  233.500000  13163100\n",
              "18  2020-07-28  234.630005  234.960007  ...  230.119995  230.119995  14170100\n",
              "19  2020-07-29  231.139999  233.699997  ...  233.289993  233.289993  13588300\n",
              "20  2020-07-30  230.220001  234.889999  ...  234.500000  234.500000  20615300\n",
              "\n",
              "[21 rows x 7 columns]"
            ]
          },
          "metadata": {
            "tags": []
          },
          "execution_count": 31
        }
      ]
    },
    {
      "cell_type": "code",
      "metadata": {
        "id": "bTD-gY_aireU",
        "colab_type": "code",
        "colab": {
          "base_uri": "https://localhost:8080/",
          "height": 34
        },
        "outputId": "178c306c-56a8-4c35-ae2c-06fb2a89f6f0"
      },
      "source": [
        "# Get the number of rows and columns\n",
        "df.shape"
      ],
      "execution_count": 32,
      "outputs": [
        {
          "output_type": "execute_result",
          "data": {
            "text/plain": [
              "(21, 7)"
            ]
          },
          "metadata": {
            "tags": []
          },
          "execution_count": 32
        }
      ]
    },
    {
      "cell_type": "code",
      "metadata": {
        "id": "72MDcDb7i01D",
        "colab_type": "code",
        "colab": {
          "base_uri": "https://localhost:8080/",
          "height": 80
        },
        "outputId": "260ef8bc-3760-4da0-d437-c8017e14c8e3"
      },
      "source": [
        "# Get and print the last row of data\n",
        "actual_price = df.tail(1)\n",
        "actual_price"
      ],
      "execution_count": 33,
      "outputs": [
        {
          "output_type": "execute_result",
          "data": {
            "text/html": [
              "<div>\n",
              "<style scoped>\n",
              "    .dataframe tbody tr th:only-of-type {\n",
              "        vertical-align: middle;\n",
              "    }\n",
              "\n",
              "    .dataframe tbody tr th {\n",
              "        vertical-align: top;\n",
              "    }\n",
              "\n",
              "    .dataframe thead th {\n",
              "        text-align: right;\n",
              "    }\n",
              "</style>\n",
              "<table border=\"1\" class=\"dataframe\">\n",
              "  <thead>\n",
              "    <tr style=\"text-align: right;\">\n",
              "      <th></th>\n",
              "      <th>Date</th>\n",
              "      <th>Open</th>\n",
              "      <th>High</th>\n",
              "      <th>Low</th>\n",
              "      <th>Close</th>\n",
              "      <th>Adj Close</th>\n",
              "      <th>Volume</th>\n",
              "    </tr>\n",
              "  </thead>\n",
              "  <tbody>\n",
              "    <tr>\n",
              "      <th>20</th>\n",
              "      <td>2020-07-30</td>\n",
              "      <td>230.220001</td>\n",
              "      <td>234.889999</td>\n",
              "      <td>229.0</td>\n",
              "      <td>234.5</td>\n",
              "      <td>234.5</td>\n",
              "      <td>20615300</td>\n",
              "    </tr>\n",
              "  </tbody>\n",
              "</table>\n",
              "</div>"
            ],
            "text/plain": [
              "          Date        Open        High    Low  Close  Adj Close    Volume\n",
              "20  2020-07-30  230.220001  234.889999  229.0  234.5      234.5  20615300"
            ]
          },
          "metadata": {
            "tags": []
          },
          "execution_count": 33
        }
      ]
    },
    {
      "cell_type": "code",
      "metadata": {
        "id": "C19jiFwtjckW",
        "colab_type": "code",
        "colab": {
          "base_uri": "https://localhost:8080/",
          "height": 408
        },
        "outputId": "32012097-4a2f-4aa6-99fe-30ce190d6d4f"
      },
      "source": [
        "# Prepare the data for training the SVR models\n",
        "# Get all of the data except for the last row\n",
        "df = df.head(len(df)-1)\n",
        "# Print the new data set\n",
        "print(df)"
      ],
      "execution_count": 34,
      "outputs": [
        {
          "output_type": "stream",
          "text": [
            "          Date        Open        High  ...       Close   Adj Close    Volume\n",
            "0   2020-07-01  228.500000  239.000000  ...  237.550003  237.550003  43399700\n",
            "1   2020-07-02  239.000000  240.000000  ...  233.419998  233.419998  30633600\n",
            "2   2020-07-06  233.759995  240.399994  ...  240.279999  240.279999  26206200\n",
            "3   2020-07-07  239.410004  247.649994  ...  240.860001  240.860001  27887800\n",
            "4   2020-07-08  238.110001  246.990005  ...  243.580002  243.580002  29791300\n",
            "5   2020-07-09  245.000000  246.529999  ...  244.500000  244.500000  22174900\n",
            "6   2020-07-10  243.690002  245.490005  ...  245.070007  245.070007  22982700\n",
            "7   2020-07-13  247.009995  250.149994  ...  239.000000  239.000000  24674900\n",
            "8   2020-07-14  236.759995  240.330002  ...  239.729996  239.729996  23378100\n",
            "9   2020-07-15  241.550003  244.820007  ...  240.279999  240.279999  19133600\n",
            "10  2020-07-16  238.000000  241.759995  ...  240.929993  240.929993  18880700\n",
            "11  2020-07-17  241.000000  244.160004  ...  242.029999  242.029999  18152400\n",
            "12  2020-07-20  240.059998  246.050003  ...  245.419998  245.419998  20872200\n",
            "13  2020-07-21  246.220001  246.910004  ...  241.750000  241.750000  19409700\n",
            "14  2020-07-22  240.259995  241.899994  ...  239.869995  239.869995  15427900\n",
            "15  2020-07-23  239.630005  242.419998  ...  232.600006  232.600006  21771800\n",
            "16  2020-07-24  230.190002  233.490005  ...  230.710007  230.710007  18325800\n",
            "17  2020-07-27  231.460007  234.949997  ...  233.500000  233.500000  13163100\n",
            "18  2020-07-28  234.630005  234.960007  ...  230.119995  230.119995  14170100\n",
            "19  2020-07-29  231.139999  233.699997  ...  233.289993  233.289993  13588300\n",
            "\n",
            "[20 rows x 7 columns]\n"
          ],
          "name": "stdout"
        }
      ]
    },
    {
      "cell_type": "code",
      "metadata": {
        "id": "5_Tlp3I6jui-",
        "colab_type": "code",
        "colab": {}
      },
      "source": [
        "# Create empty list to store the independent any dependent data\n",
        "days = list()\n",
        "adj_Close_prices = list()\n"
      ],
      "execution_count": 35,
      "outputs": []
    },
    {
      "cell_type": "code",
      "metadata": {
        "id": "ru66xIH6j8ry",
        "colab_type": "code",
        "colab": {}
      },
      "source": [
        "# Get the date and adjusted close price\n",
        "df_days = df.loc[:, 'Date']\n",
        "df_adj_close = df.loc[:, 'Adj Close']"
      ],
      "execution_count": 36,
      "outputs": []
    },
    {
      "cell_type": "code",
      "metadata": {
        "id": "Pfcl0yRzkLwT",
        "colab_type": "code",
        "colab": {}
      },
      "source": [
        "# Create the independent data set\n",
        "for day in df_days:\n",
        "  days.append([int(day.split('-')[2])])\n",
        "\n",
        "# Create the dependent data set\n",
        "for adj_close_price in df_adj_close:\n",
        "  adj_Close_prices.append(float(adj_close_price))"
      ],
      "execution_count": 37,
      "outputs": []
    },
    {
      "cell_type": "code",
      "metadata": {
        "id": "aJ7AWjRQk1gQ",
        "colab_type": "code",
        "colab": {
          "base_uri": "https://localhost:8080/",
          "height": 71
        },
        "outputId": "af23de2e-de63-4bed-9a83-3371416a052d"
      },
      "source": [
        "# Print the days and the adj close prices\n",
        "print(days)\n",
        "print(adj_Close_prices)"
      ],
      "execution_count": 38,
      "outputs": [
        {
          "output_type": "stream",
          "text": [
            "[[1], [2], [6], [7], [8], [9], [10], [13], [14], [15], [16], [17], [20], [21], [22], [23], [24], [27], [28], [29]]\n",
            "[237.55000299999998, 233.419998, 240.27999900000003, 240.86000099999998, 243.580002, 244.5, 245.07000699999998, 239.0, 239.729996, 240.27999900000003, 240.92999300000002, 242.02999900000003, 245.419998, 241.75, 239.86999500000002, 232.600006, 230.710007, 233.5, 230.11999500000002, 233.289993]\n"
          ],
          "name": "stdout"
        }
      ]
    },
    {
      "cell_type": "code",
      "metadata": {
        "id": "GSjnApTolru0",
        "colab_type": "code",
        "colab": {
          "base_uri": "https://localhost:8080/",
          "height": 51
        },
        "outputId": "7e69c98d-d81c-48a7-d92c-b4d030204f6d"
      },
      "source": [
        "# Create the 3 Support Vector Regression Models\n",
        "\n",
        "# Create and train a SVR model using a linear kernel\n",
        "lin_svr = SVR(kernel='linear', C=1000.0)\n",
        "lin_svr.fit(days, adj_Close_prices)\n",
        "\n",
        "# Create and train a SVR model using a polynomial kernel\n",
        "poly_svr = SVR(kernel='poly', C=1000.0, degree = 2)\n",
        "poly_svr.fit(days, adj_Close_prices)\n",
        "\n",
        "# Create and train a SVR model using a polynomial kernel\n",
        "rbf_svr = SVR(kernel='rbf', C=1000.0, gamma = 0.15)\n",
        "rbf_svr.fit(days, adj_Close_prices)"
      ],
      "execution_count": 39,
      "outputs": [
        {
          "output_type": "execute_result",
          "data": {
            "text/plain": [
              "SVR(C=1000.0, cache_size=200, coef0=0.0, degree=3, epsilon=0.1, gamma=0.15,\n",
              "    kernel='rbf', max_iter=-1, shrinking=True, tol=0.001, verbose=False)"
            ]
          },
          "metadata": {
            "tags": []
          },
          "execution_count": 39
        }
      ]
    },
    {
      "cell_type": "code",
      "metadata": {
        "id": "ya_jNStCmmNi",
        "colab_type": "code",
        "colab": {
          "base_uri": "https://localhost:8080/",
          "height": 415
        },
        "outputId": "c14a4bdd-d447-4218-e5e9-586af4089ffd"
      },
      "source": [
        "# Plot the models on a graph to see which has the best fit to the original data\n",
        "plt.figure(figsize=(16,8))\n",
        "plt.scatter(days, adj_Close_prices, color='red', label='Data')\n",
        "plt.plot(days, rbf_svr.predict(days), color='green', label ='RBF Model')\n",
        "plt.plot(days, poly_svr.predict(days), color='orange', label ='Polynomial Model')\n",
        "plt.plot(days, lin_svr.predict(days), color='blue', label ='Linear Model')\n",
        "plt.legend()\n",
        "plt.show()"
      ],
      "execution_count": 40,
      "outputs": [
        {
          "output_type": "display_data",
          "data": {
            "image/png": "[encoded data removed]",
            "text/plain": [
              "<Figure size 1152x576 with 1 Axes>"
            ]
          },
          "metadata": {
            "tags": []
          }
        }
      ]
    },
    {
      "cell_type": "code",
      "metadata": {
        "id": "0LRuukU-nOBv",
        "colab_type": "code",
        "colab": {
          "base_uri": "https://localhost:8080/",
          "height": 68
        },
        "outputId": "88e9cb85-7a14-4723-cdb8-524c985ee37e"
      },
      "source": [
        "# Show the predicted price for the given days\n",
        "day = [[31]]\n",
        "\n",
        "print('The RBF SVR predicted: ', rbf_svr.predict(day))\n",
        "print('The Linear SVR predicted: ', lin_svr.predict(day))\n",
        "print('The Polynomial SVR predicted: ', poly_svr.predict(day))"
      ],
      "execution_count": 41,
      "outputs": [
        {
          "output_type": "stream",
          "text": [
            "The RBF SVR predicted:  [240.04605652]\n",
            "The Linear SVR predicted:  [232.5579926]\n",
            "The Polynomial SVR predicted:  [231.95513047]\n"
          ],
          "name": "stdout"
        }
      ]
    },
    {
      "cell_type": "code",
      "metadata": {
        "id": "PlaZZwIOoJtq",
        "colab_type": "code",
        "colab": {
          "base_uri": "https://localhost:8080/",
          "height": 34
        },
        "outputId": "14b0be9a-2f45-4fe5-ea5c-73b5784234bc"
      },
      "source": [
        "# Print the actual price of the stock on day 31\n",
        "print('The actual price: ', actual_price['Adj Close'][20])"
      ],
      "execution_count": 44,
      "outputs": [
        {
          "output_type": "stream",
          "text": [
            "The actual price:  234.5\n"
          ],
          "name": "stdout"
        }
      ]
    },
    {
      "cell_type": "code",
      "metadata": {
        "id": "yDl8YmOVolit",
        "colab_type": "code",
        "colab": {}
      },
      "source": [
        ""
      ],
      "execution_count": null,
      "outputs": []
    }
  ]
}