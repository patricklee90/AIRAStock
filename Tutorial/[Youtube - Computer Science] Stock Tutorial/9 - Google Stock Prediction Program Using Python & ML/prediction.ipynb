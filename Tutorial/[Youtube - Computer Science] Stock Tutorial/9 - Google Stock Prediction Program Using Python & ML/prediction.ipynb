{
  "nbformat": 4,
  "nbformat_minor": 0,
  "metadata": {
    "colab": {
      "name": "Google Predict with SVR Using Python & ML.ipynb",
      "provenance": [],
      "collapsed_sections": []
    },
    "kernelspec": {
      "name": "python3",
      "display_name": "Python 3"
    }
  },
  "cells": [
    {
      "cell_type": "code",
      "metadata": {
        "id": "DUie94YocmAY",
        "colab_type": "code",
        "colab": {}
      },
      "source": [
        "# 9-Google_Stock_Prediction_Program_Using_Python_ML\n",
        "# Description: This program predicts the price of Google Stock for a Specific Day"
      ],
      "execution_count": 106,
      "outputs": []
    },
    {
      "cell_type": "code",
      "metadata": {
        "id": "CVM_EBDQczCu",
        "colab_type": "code",
        "colab": {}
      },
      "source": [
        "# Import the libraries\n",
        "from sklearn.svm import SVR\n",
        "import numpy as np\n",
        "import pandas as pd\n",
        "import matplotlib.pyplot as plt\n",
        "plt.style.use('seaborn-darkgrid')"
      ],
      "execution_count": 107,
      "outputs": []
    },
    {
      "cell_type": "code",
      "metadata": {
        "id": "gcXUS1vzde8B",
        "colab_type": "code",
        "colab": {
          "resources": {
            "http://localhost:8080/nbextensions/google.colab/files.js": {
              "data": "Ly8gQ29weXJpZ2h0IDIwMTcgR29vZ2xlIExMQwovLwovLyBMaWNlbnNlZCB1bmRlciB0aGUgQXBhY2hlIExpY2Vuc2UsIFZlcnNpb24gMi4wICh0aGUgIkxpY2Vuc2UiKTsKLy8geW91IG1heSBub3QgdXNlIHRoaXMgZmlsZSBleGNlcHQgaW4gY29tcGxpYW5jZSB3aXRoIHRoZSBMaWNlbnNlLgovLyBZb3UgbWF5IG9idGFpbiBhIGNvcHkgb2YgdGhlIExpY2Vuc2UgYXQKLy8KLy8gICAgICBodHRwOi8vd3d3LmFwYWNoZS5vcmcvbGljZW5zZXMvTElDRU5TRS0yLjAKLy8KLy8gVW5sZXNzIHJlcXVpcmVkIGJ5IGFwcGxpY2FibGUgbGF3IG9yIGFncmVlZCB0byBpbiB3cml0aW5nLCBzb2Z0d2FyZQovLyBkaXN0cmlidXRlZCB1bmRlciB0aGUgTGljZW5zZSBpcyBkaXN0cmlidXRlZCBvbiBhbiAiQVMgSVMiIEJBU0lTLAovLyBXSVRIT1VUIFdBUlJBTlRJRVMgT1IgQ09ORElUSU9OUyBPRiBBTlkgS0lORCwgZWl0aGVyIGV4cHJlc3Mgb3IgaW1wbGllZC4KLy8gU2VlIHRoZSBMaWNlbnNlIGZvciB0aGUgc3BlY2lmaWMgbGFuZ3VhZ2UgZ292ZXJuaW5nIHBlcm1pc3Npb25zIGFuZAovLyBsaW1pdGF0aW9ucyB1bmRlciB0aGUgTGljZW5zZS4KCi8qKgogKiBAZmlsZW92ZXJ2aWV3IEhlbHBlcnMgZm9yIGdvb2dsZS5jb2xhYiBQeXRob24gbW9kdWxlLgogKi8KKGZ1bmN0aW9uKHNjb3BlKSB7CmZ1bmN0aW9uIHNwYW4odGV4dCwgc3R5bGVBdHRyaWJ1dGVzID0ge30pIHsKICBjb25zdCBlbGVtZW50ID0gZG9jdW1lbnQuY3JlYXRlRWxlbWVudCgnc3BhbicpOwogIGVsZW1lbnQudGV4dENvbnRlbnQgPSB0ZXh0OwogIGZvciAoY29uc3Qga2V5IG9mIE9iamVjdC5rZXlzKHN0eWxlQXR0cmlidXRlcykpIHsKICAgIGVsZW1lbnQuc3R5bGVba2V5XSA9IHN0eWxlQXR0cmlidXRlc1trZXldOwogIH0KICByZXR1cm4gZWxlbWVudDsKfQoKLy8gTWF4IG51bWJlciBvZiBieXRlcyB3aGljaCB3aWxsIGJlIHVwbG9hZGVkIGF0IGEgdGltZS4KY29uc3QgTUFYX1BBWUxPQURfU0laRSA9IDEwMCAqIDEwMjQ7CgpmdW5jdGlvbiBfdXBsb2FkRmlsZXMoaW5wdXRJZCwgb3V0cHV0SWQpIHsKICBjb25zdCBzdGVwcyA9IHVwbG9hZEZpbGVzU3RlcChpbnB1dElkLCBvdXRwdXRJZCk7CiAgY29uc3Qgb3V0cHV0RWxlbWVudCA9IGRvY3VtZW50LmdldEVsZW1lbnRCeUlkKG91dHB1dElkKTsKICAvLyBDYWNoZSBzdGVwcyBvbiB0aGUgb3V0cHV0RWxlbWVudCB0byBtYWtlIGl0IGF2YWlsYWJsZSBmb3IgdGhlIG5leHQgY2FsbAogIC8vIHRvIHVwbG9hZEZpbGVzQ29udGludWUgZnJvbSBQeXRob24uCiAgb3V0cHV0RWxlbWVudC5zdGVwcyA9IHN0ZXBzOwoKICByZXR1cm4gX3VwbG9hZEZpbGVzQ29udGludWUob3V0cHV0SWQpOwp9CgovLyBUaGlzIGlzIHJvdWdobHkgYW4gYXN5bmMgZ2VuZXJhdG9yIChub3Qgc3VwcG9ydGVkIGluIHRoZSBicm93c2VyIHlldCksCi8vIHdoZXJlIHRoZXJlIGFyZSBtdWx0aXBsZSBhc3luY2hyb25vdXMgc3RlcHMgYW5kIHRoZSBQeXRob24gc2lkZSBpcyBnb2luZwovLyB0byBwb2xsIGZvciBjb21wbGV0aW9uIG9mIGVhY2ggc3RlcC4KLy8gVGhpcyB1c2VzIGEgUHJvbWlzZSB0byBibG9jayB0aGUgcHl0aG9uIHNpZGUgb24gY29tcGxldGlvbiBvZiBlYWNoIHN0ZXAsCi8vIHRoZW4gcGFzc2VzIHRoZSByZXN1bHQgb2YgdGhlIHByZXZpb3VzIHN0ZXAgYXMgdGhlIGlucHV0IHRvIHRoZSBuZXh0IHN0ZXAuCmZ1bmN0aW9uIF91cGxvYWRGaWxlc0NvbnRpbnVlKG91dHB1dElkKSB7CiAgY29uc3Qgb3V0cHV0RWxlbWVudCA9IGRvY3VtZW50LmdldEVsZW1lbnRCeUlkKG91dHB1dElkKTsKICBjb25zdCBzdGVwcyA9IG91dHB1dEVsZW1lbnQuc3RlcHM7CgogIGNvbnN0IG5leHQgPSBzdGVwcy5uZXh0KG91dHB1dEVsZW1lbnQubGFzdFByb21pc2VWYWx1ZSk7CiAgcmV0dXJuIFByb21pc2UucmVzb2x2ZShuZXh0LnZhbHVlLnByb21pc2UpLnRoZW4oKHZhbHVlKSA9PiB7CiAgICAvLyBDYWNoZSB0aGUgbGFzdCBwcm9taXNlIHZhbHVlIHRvIG1ha2UgaXQgYXZhaWxhYmxlIHRvIHRoZSBuZXh0CiAgICAvLyBzdGVwIG9mIHRoZSBnZW5lcmF0b3IuCiAgICBvdXRwdXRFbGVtZW50Lmxhc3RQcm9taXNlVmFsdWUgPSB2YWx1ZTsKICAgIHJldHVybiBuZXh0LnZhbHVlLnJlc3BvbnNlOwogIH0pOwp9CgovKioKICogR2VuZXJhdG9yIGZ1bmN0aW9uIHdoaWNoIGlzIGNhbGxlZCBiZXR3ZWVuIGVhY2ggYXN5bmMgc3RlcCBvZiB0aGUgdXBsb2FkCiAqIHByb2Nlc3MuCiAqIEBwYXJhbSB7c3RyaW5nfSBpbnB1dElkIEVsZW1lbnQgSUQgb2YgdGhlIGlucHV0IGZpbGUgcGlja2VyIGVsZW1lbnQuCiAqIEBwYXJhbSB7c3RyaW5nfSBvdXRwdXRJZCBFbGVtZW50IElEIG9mIHRoZSBvdXRwdXQgZGlzcGxheS4KICogQHJldHVybiB7IUl0ZXJhYmxlPCFPYmplY3Q+fSBJdGVyYWJsZSBvZiBuZXh0IHN0ZXBzLgogKi8KZnVuY3Rpb24qIHVwbG9hZEZpbGVzU3RlcChpbnB1dElkLCBvdXRwdXRJZCkgewogIGNvbnN0IGlucHV0RWxlbWVudCA9IGRvY3VtZW50LmdldEVsZW1lbnRCeUlkKGlucHV0SWQpOwogIGlucHV0RWxlbWVudC5kaXNhYmxlZCA9IGZhbHNlOwoKICBjb25zdCBvdXRwdXRFbGVtZW50ID0gZG9jdW1lbnQuZ2V0RWxlbWVudEJ5SWQob3V0cHV0SWQpOwogIG91dHB1dEVsZW1lbnQuaW5uZXJIVE1MID0gJyc7CgogIGNvbnN0IHBpY2tlZFByb21pc2UgPSBuZXcgUHJvbWlzZSgocmVzb2x2ZSkgPT4gewogICAgaW5wdXRFbGVtZW50LmFkZEV2ZW50TGlzdGVuZXIoJ2NoYW5nZScsIChlKSA9PiB7CiAgICAgIHJlc29sdmUoZS50YXJnZXQuZmlsZXMpOwogICAgfSk7CiAgfSk7CgogIGNvbnN0IGNhbmNlbCA9IGRvY3VtZW50LmNyZWF0ZUVsZW1lbnQoJ2J1dHRvbicpOwogIGlucHV0RWxlbWVudC5wYXJlbnRFbGVtZW50LmFwcGVuZENoaWxkKGNhbmNlbCk7CiAgY2FuY2VsLnRleHRDb250ZW50ID0gJ0NhbmNlbCB1cGxvYWQnOwogIGNvbnN0IGNhbmNlbFByb21pc2UgPSBuZXcgUHJvbWlzZSgocmVzb2x2ZSkgPT4gewogICAgY2FuY2VsLm9uY2xpY2sgPSAoKSA9PiB7CiAgICAgIHJlc29sdmUobnVsbCk7CiAgICB9OwogIH0pOwoKICAvLyBXYWl0IGZvciB0aGUgdXNlciB0byBwaWNrIHRoZSBmaWxlcy4KICBjb25zdCBmaWxlcyA9IHlpZWxkIHsKICAgIHByb21pc2U6IFByb21pc2UucmFjZShbcGlja2VkUHJvbWlzZSwgY2FuY2VsUHJvbWlzZV0pLAogICAgcmVzcG9uc2U6IHsKICAgICAgYWN0aW9uOiAnc3RhcnRpbmcnLAogICAgfQogIH07CgogIGNhbmNlbC5yZW1vdmUoKTsKCiAgLy8gRGlzYWJsZSB0aGUgaW5wdXQgZWxlbWVudCBzaW5jZSBmdXJ0aGVyIHBpY2tzIGFyZSBub3QgYWxsb3dlZC4KICBpbnB1dEVsZW1lbnQuZGlzYWJsZWQgPSB0cnVlOwoKICBpZiAoIWZpbGVzKSB7CiAgICByZXR1cm4gewogICAgICByZXNwb25zZTogewogICAgICAgIGFjdGlvbjogJ2NvbXBsZXRlJywKICAgICAgfQogICAgfTsKICB9CgogIGZvciAoY29uc3QgZmlsZSBvZiBmaWxlcykgewogICAgY29uc3QgbGkgPSBkb2N1bWVudC5jcmVhdGVFbGVtZW50KCdsaScpOwogICAgbGkuYXBwZW5kKHNwYW4oZmlsZS5uYW1lLCB7Zm9udFdlaWdodDogJ2JvbGQnfSkpOwogICAgbGkuYXBwZW5kKHNwYW4oCiAgICAgICAgYCgke2ZpbGUudHlwZSB8fCAnbi9hJ30pIC0gJHtmaWxlLnNpemV9IGJ5dGVzLCBgICsKICAgICAgICBgbGFzdCBtb2RpZmllZDogJHsKICAgICAgICAgICAgZmlsZS5sYXN0TW9kaWZpZWREYXRlID8gZmlsZS5sYXN0TW9kaWZpZWREYXRlLnRvTG9jYWxlRGF0ZVN0cmluZygpIDoKICAgICAgICAgICAgICAgICAgICAgICAgICAgICAgICAgICAgJ24vYSd9IC0gYCkpOwogICAgY29uc3QgcGVyY2VudCA9IHNwYW4oJzAlIGRvbmUnKTsKICAgIGxpLmFwcGVuZENoaWxkKHBlcmNlbnQpOwoKICAgIG91dHB1dEVsZW1lbnQuYXBwZW5kQ2hpbGQobGkpOwoKICAgIGNvbnN0IGZpbGVEYXRhUHJvbWlzZSA9IG5ldyBQcm9taXNlKChyZXNvbHZlKSA9PiB7CiAgICAgIGNvbnN0IHJlYWRlciA9IG5ldyBGaWxlUmVhZGVyKCk7CiAgICAgIHJlYWRlci5vbmxvYWQgPSAoZSkgPT4gewogICAgICAgIHJlc29sdmUoZS50YXJnZXQucmVzdWx0KTsKICAgICAgfTsKICAgICAgcmVhZGVyLnJlYWRBc0FycmF5QnVmZmVyKGZpbGUpOwogICAgfSk7CiAgICAvLyBXYWl0IGZvciB0aGUgZGF0YSB0byBiZSByZWFkeS4KICAgIGxldCBmaWxlRGF0YSA9IHlpZWxkIHsKICAgICAgcHJvbWlzZTogZmlsZURhdGFQcm9taXNlLAogICAgICByZXNwb25zZTogewogICAgICAgIGFjdGlvbjogJ2NvbnRpbnVlJywKICAgICAgfQogICAgfTsKCiAgICAvLyBVc2UgYSBjaHVua2VkIHNlbmRpbmcgdG8gYXZvaWQgbWVzc2FnZSBzaXplIGxpbWl0cy4gU2VlIGIvNjIxMTU2NjAuCiAgICBsZXQgcG9zaXRpb24gPSAwOwogICAgd2hpbGUgKHBvc2l0aW9uIDwgZmlsZURhdGEuYnl0ZUxlbmd0aCkgewogICAgICBjb25zdCBsZW5ndGggPSBNYXRoLm1pbihmaWxlRGF0YS5ieXRlTGVuZ3RoIC0gcG9zaXRpb24sIE1BWF9QQVlMT0FEX1NJWkUpOwogICAgICBjb25zdCBjaHVuayA9IG5ldyBVaW50OEFycmF5KGZpbGVEYXRhLCBwb3NpdGlvbiwgbGVuZ3RoKTsKICAgICAgcG9zaXRpb24gKz0gbGVuZ3RoOwoKICAgICAgY29uc3QgYmFzZTY0ID0gYnRvYShTdHJpbmcuZnJvbUNoYXJDb2RlLmFwcGx5KG51bGwsIGNodW5rKSk7CiAgICAgIHlpZWxkIHsKICAgICAgICByZXNwb25zZTogewogICAgICAgICAgYWN0aW9uOiAnYXBwZW5kJywKICAgICAgICAgIGZpbGU6IGZpbGUubmFtZSwKICAgICAgICAgIGRhdGE6IGJhc2U2NCwKICAgICAgICB9LAogICAgICB9OwogICAgICBwZXJjZW50LnRleHRDb250ZW50ID0KICAgICAgICAgIGAke01hdGgucm91bmQoKHBvc2l0aW9uIC8gZmlsZURhdGEuYnl0ZUxlbmd0aCkgKiAxMDApfSUgZG9uZWA7CiAgICB9CiAgfQoKICAvLyBBbGwgZG9uZS4KICB5aWVsZCB7CiAgICByZXNwb25zZTogewogICAgICBhY3Rpb246ICdjb21wbGV0ZScsCiAgICB9CiAgfTsKfQoKc2NvcGUuZ29vZ2xlID0gc2NvcGUuZ29vZ2xlIHx8IHt9OwpzY29wZS5nb29nbGUuY29sYWIgPSBzY29wZS5nb29nbGUuY29sYWIgfHwge307CnNjb3BlLmdvb2dsZS5jb2xhYi5fZmlsZXMgPSB7CiAgX3VwbG9hZEZpbGVzLAogIF91cGxvYWRGaWxlc0NvbnRpbnVlLAp9Owp9KShzZWxmKTsK",
              "ok": true,
              "headers": [
                [
                  "content-type",
                  "application/javascript"
                ]
              ],
              "status": 200,
              "status_text": ""
            }
          },
          "base_uri": "https://localhost:8080/",
          "height": 72
        },
        "outputId": "f33a9df7-a30e-4c17-9b6a-a266f8e44f93"
      },
      "source": [
        "# Load the data\n",
        "from google.colab import files\n",
        "uploaded = files.upload()"
      ],
      "execution_count": 123,
      "outputs": [
        {
          "output_type": "display_data",
          "data": {
            "text/html": [
              "\n",
              "     <input type=\"file\" id=\"files-d19ffed4-4d88-44ae-85e8-a4fbe7d34d86\" name=\"files[]\" multiple disabled\n",
              "        style=\"border:none\" />\n",
              "     <output id=\"result-d19ffed4-4d88-44ae-85e8-a4fbe7d34d86\">\n",
              "      Upload widget is only available when the cell has been executed in the\n",
              "      current browser session. Please rerun this cell to enable.\n",
              "      </output>\n",
              "      <script src=\"/nbextensions/google.colab/files.js\"></script> "
            ],
            "text/plain": [
              "<IPython.core.display.HTML object>"
            ]
          },
          "metadata": {
            "tags": []
          }
        },
        {
          "output_type": "stream",
          "text": [
            "Saving GOOG_3M.csv to GOOG_3M.csv\n"
          ],
          "name": "stdout"
        }
      ]
    },
    {
      "cell_type": "code",
      "metadata": {
        "id": "erKadHGydjEs",
        "colab_type": "code",
        "colab": {
          "base_uri": "https://localhost:8080/",
          "height": 419
        },
        "outputId": "7e50d52b-6c7a-41f0-c8b9-ba942279cf4f"
      },
      "source": [
        "# Store and look at the data\n",
        "df = pd.read_csv('GOOG_3M.csv')\n",
        "df"
      ],
      "execution_count": 124,
      "outputs": [
        {
          "output_type": "execute_result",
          "data": {
            "text/html": [
              "<div>\n",
              "<style scoped>\n",
              "    .dataframe tbody tr th:only-of-type {\n",
              "        vertical-align: middle;\n",
              "    }\n",
              "\n",
              "    .dataframe tbody tr th {\n",
              "        vertical-align: top;\n",
              "    }\n",
              "\n",
              "    .dataframe thead th {\n",
              "        text-align: right;\n",
              "    }\n",
              "</style>\n",
              "<table border=\"1\" class=\"dataframe\">\n",
              "  <thead>\n",
              "    <tr style=\"text-align: right;\">\n",
              "      <th></th>\n",
              "      <th>Date</th>\n",
              "      <th>Open</th>\n",
              "      <th>High</th>\n",
              "      <th>Low</th>\n",
              "      <th>Close</th>\n",
              "      <th>Adj Close</th>\n",
              "      <th>Volume</th>\n",
              "    </tr>\n",
              "  </thead>\n",
              "  <tbody>\n",
              "    <tr>\n",
              "      <th>0</th>\n",
              "      <td>2020-05-26</td>\n",
              "      <td>1437.270020</td>\n",
              "      <td>1441.000000</td>\n",
              "      <td>1412.130005</td>\n",
              "      <td>1417.020020</td>\n",
              "      <td>1417.020020</td>\n",
              "      <td>2060600</td>\n",
              "    </tr>\n",
              "    <tr>\n",
              "      <th>1</th>\n",
              "      <td>2020-05-27</td>\n",
              "      <td>1417.250000</td>\n",
              "      <td>1421.739990</td>\n",
              "      <td>1391.290039</td>\n",
              "      <td>1417.839966</td>\n",
              "      <td>1417.839966</td>\n",
              "      <td>1685800</td>\n",
              "    </tr>\n",
              "    <tr>\n",
              "      <th>2</th>\n",
              "      <td>2020-05-28</td>\n",
              "      <td>1396.859985</td>\n",
              "      <td>1440.839966</td>\n",
              "      <td>1396.000000</td>\n",
              "      <td>1416.729980</td>\n",
              "      <td>1416.729980</td>\n",
              "      <td>1692200</td>\n",
              "    </tr>\n",
              "    <tr>\n",
              "      <th>3</th>\n",
              "      <td>2020-05-29</td>\n",
              "      <td>1416.939941</td>\n",
              "      <td>1432.569946</td>\n",
              "      <td>1413.349976</td>\n",
              "      <td>1428.920044</td>\n",
              "      <td>1428.920044</td>\n",
              "      <td>1838100</td>\n",
              "    </tr>\n",
              "    <tr>\n",
              "      <th>4</th>\n",
              "      <td>2020-06-01</td>\n",
              "      <td>1418.390015</td>\n",
              "      <td>1437.959961</td>\n",
              "      <td>1418.000000</td>\n",
              "      <td>1431.819946</td>\n",
              "      <td>1431.819946</td>\n",
              "      <td>1217100</td>\n",
              "    </tr>\n",
              "    <tr>\n",
              "      <th>...</th>\n",
              "      <td>...</td>\n",
              "      <td>...</td>\n",
              "      <td>...</td>\n",
              "      <td>...</td>\n",
              "      <td>...</td>\n",
              "      <td>...</td>\n",
              "      <td>...</td>\n",
              "    </tr>\n",
              "    <tr>\n",
              "      <th>58</th>\n",
              "      <td>2020-08-17</td>\n",
              "      <td>1514.670044</td>\n",
              "      <td>1525.609985</td>\n",
              "      <td>1507.969971</td>\n",
              "      <td>1517.979980</td>\n",
              "      <td>1517.979980</td>\n",
              "      <td>1378300</td>\n",
              "    </tr>\n",
              "    <tr>\n",
              "      <th>59</th>\n",
              "      <td>2020-08-18</td>\n",
              "      <td>1526.180054</td>\n",
              "      <td>1562.469971</td>\n",
              "      <td>1523.709961</td>\n",
              "      <td>1558.599976</td>\n",
              "      <td>1558.599976</td>\n",
              "      <td>2027100</td>\n",
              "    </tr>\n",
              "    <tr>\n",
              "      <th>60</th>\n",
              "      <td>2020-08-19</td>\n",
              "      <td>1553.310059</td>\n",
              "      <td>1573.680054</td>\n",
              "      <td>1543.949951</td>\n",
              "      <td>1547.530029</td>\n",
              "      <td>1547.530029</td>\n",
              "      <td>1660600</td>\n",
              "    </tr>\n",
              "    <tr>\n",
              "      <th>61</th>\n",
              "      <td>2020-08-20</td>\n",
              "      <td>1543.449951</td>\n",
              "      <td>1585.869995</td>\n",
              "      <td>1538.199951</td>\n",
              "      <td>1581.750000</td>\n",
              "      <td>1581.750000</td>\n",
              "      <td>1706900</td>\n",
              "    </tr>\n",
              "    <tr>\n",
              "      <th>62</th>\n",
              "      <td>2020-08-21</td>\n",
              "      <td>1577.030029</td>\n",
              "      <td>1597.719971</td>\n",
              "      <td>1568.005005</td>\n",
              "      <td>1580.420044</td>\n",
              "      <td>1580.420044</td>\n",
              "      <td>1445900</td>\n",
              "    </tr>\n",
              "  </tbody>\n",
              "</table>\n",
              "<p>63 rows × 7 columns</p>\n",
              "</div>"
            ],
            "text/plain": [
              "          Date         Open         High  ...        Close    Adj Close   Volume\n",
              "0   2020-05-26  1437.270020  1441.000000  ...  1417.020020  1417.020020  2060600\n",
              "1   2020-05-27  1417.250000  1421.739990  ...  1417.839966  1417.839966  1685800\n",
              "2   2020-05-28  1396.859985  1440.839966  ...  1416.729980  1416.729980  1692200\n",
              "3   2020-05-29  1416.939941  1432.569946  ...  1428.920044  1428.920044  1838100\n",
              "4   2020-06-01  1418.390015  1437.959961  ...  1431.819946  1431.819946  1217100\n",
              "..         ...          ...          ...  ...          ...          ...      ...\n",
              "58  2020-08-17  1514.670044  1525.609985  ...  1517.979980  1517.979980  1378300\n",
              "59  2020-08-18  1526.180054  1562.469971  ...  1558.599976  1558.599976  2027100\n",
              "60  2020-08-19  1553.310059  1573.680054  ...  1547.530029  1547.530029  1660600\n",
              "61  2020-08-20  1543.449951  1585.869995  ...  1581.750000  1581.750000  1706900\n",
              "62  2020-08-21  1577.030029  1597.719971  ...  1580.420044  1580.420044  1445900\n",
              "\n",
              "[63 rows x 7 columns]"
            ]
          },
          "metadata": {
            "tags": []
          },
          "execution_count": 124
        }
      ]
    },
    {
      "cell_type": "code",
      "metadata": {
        "id": "MeGOSyRfdscX",
        "colab_type": "code",
        "colab": {
          "base_uri": "https://localhost:8080/",
          "height": 80
        },
        "outputId": "0ca0078b-56f4-4565-d404-b8006378b7e0"
      },
      "source": [
        "# Get and print the last row of data\n",
        "actual_price = df.tail(1)\n",
        "actual_price"
      ],
      "execution_count": 125,
      "outputs": [
        {
          "output_type": "execute_result",
          "data": {
            "text/html": [
              "<div>\n",
              "<style scoped>\n",
              "    .dataframe tbody tr th:only-of-type {\n",
              "        vertical-align: middle;\n",
              "    }\n",
              "\n",
              "    .dataframe tbody tr th {\n",
              "        vertical-align: top;\n",
              "    }\n",
              "\n",
              "    .dataframe thead th {\n",
              "        text-align: right;\n",
              "    }\n",
              "</style>\n",
              "<table border=\"1\" class=\"dataframe\">\n",
              "  <thead>\n",
              "    <tr style=\"text-align: right;\">\n",
              "      <th></th>\n",
              "      <th>Date</th>\n",
              "      <th>Open</th>\n",
              "      <th>High</th>\n",
              "      <th>Low</th>\n",
              "      <th>Close</th>\n",
              "      <th>Adj Close</th>\n",
              "      <th>Volume</th>\n",
              "    </tr>\n",
              "  </thead>\n",
              "  <tbody>\n",
              "    <tr>\n",
              "      <th>62</th>\n",
              "      <td>2020-08-21</td>\n",
              "      <td>1577.030029</td>\n",
              "      <td>1597.719971</td>\n",
              "      <td>1568.005005</td>\n",
              "      <td>1580.420044</td>\n",
              "      <td>1580.420044</td>\n",
              "      <td>1445900</td>\n",
              "    </tr>\n",
              "  </tbody>\n",
              "</table>\n",
              "</div>"
            ],
            "text/plain": [
              "          Date         Open         High  ...        Close    Adj Close   Volume\n",
              "62  2020-08-21  1577.030029  1597.719971  ...  1580.420044  1580.420044  1445900\n",
              "\n",
              "[1 rows x 7 columns]"
            ]
          },
          "metadata": {
            "tags": []
          },
          "execution_count": 125
        }
      ]
    },
    {
      "cell_type": "code",
      "metadata": {
        "id": "75jTXX9geAaX",
        "colab_type": "code",
        "colab": {
          "base_uri": "https://localhost:8080/",
          "height": 419
        },
        "outputId": "a35b4ff3-82e7-4c3a-976a-eb42596d61ee"
      },
      "source": [
        "# Prepare the data for training\n",
        "df = df.head(len(df)-1)\n",
        "df"
      ],
      "execution_count": 126,
      "outputs": [
        {
          "output_type": "execute_result",
          "data": {
            "text/html": [
              "<div>\n",
              "<style scoped>\n",
              "    .dataframe tbody tr th:only-of-type {\n",
              "        vertical-align: middle;\n",
              "    }\n",
              "\n",
              "    .dataframe tbody tr th {\n",
              "        vertical-align: top;\n",
              "    }\n",
              "\n",
              "    .dataframe thead th {\n",
              "        text-align: right;\n",
              "    }\n",
              "</style>\n",
              "<table border=\"1\" class=\"dataframe\">\n",
              "  <thead>\n",
              "    <tr style=\"text-align: right;\">\n",
              "      <th></th>\n",
              "      <th>Date</th>\n",
              "      <th>Open</th>\n",
              "      <th>High</th>\n",
              "      <th>Low</th>\n",
              "      <th>Close</th>\n",
              "      <th>Adj Close</th>\n",
              "      <th>Volume</th>\n",
              "    </tr>\n",
              "  </thead>\n",
              "  <tbody>\n",
              "    <tr>\n",
              "      <th>0</th>\n",
              "      <td>2020-05-26</td>\n",
              "      <td>1437.270020</td>\n",
              "      <td>1441.000000</td>\n",
              "      <td>1412.130005</td>\n",
              "      <td>1417.020020</td>\n",
              "      <td>1417.020020</td>\n",
              "      <td>2060600</td>\n",
              "    </tr>\n",
              "    <tr>\n",
              "      <th>1</th>\n",
              "      <td>2020-05-27</td>\n",
              "      <td>1417.250000</td>\n",
              "      <td>1421.739990</td>\n",
              "      <td>1391.290039</td>\n",
              "      <td>1417.839966</td>\n",
              "      <td>1417.839966</td>\n",
              "      <td>1685800</td>\n",
              "    </tr>\n",
              "    <tr>\n",
              "      <th>2</th>\n",
              "      <td>2020-05-28</td>\n",
              "      <td>1396.859985</td>\n",
              "      <td>1440.839966</td>\n",
              "      <td>1396.000000</td>\n",
              "      <td>1416.729980</td>\n",
              "      <td>1416.729980</td>\n",
              "      <td>1692200</td>\n",
              "    </tr>\n",
              "    <tr>\n",
              "      <th>3</th>\n",
              "      <td>2020-05-29</td>\n",
              "      <td>1416.939941</td>\n",
              "      <td>1432.569946</td>\n",
              "      <td>1413.349976</td>\n",
              "      <td>1428.920044</td>\n",
              "      <td>1428.920044</td>\n",
              "      <td>1838100</td>\n",
              "    </tr>\n",
              "    <tr>\n",
              "      <th>4</th>\n",
              "      <td>2020-06-01</td>\n",
              "      <td>1418.390015</td>\n",
              "      <td>1437.959961</td>\n",
              "      <td>1418.000000</td>\n",
              "      <td>1431.819946</td>\n",
              "      <td>1431.819946</td>\n",
              "      <td>1217100</td>\n",
              "    </tr>\n",
              "    <tr>\n",
              "      <th>...</th>\n",
              "      <td>...</td>\n",
              "      <td>...</td>\n",
              "      <td>...</td>\n",
              "      <td>...</td>\n",
              "      <td>...</td>\n",
              "      <td>...</td>\n",
              "      <td>...</td>\n",
              "    </tr>\n",
              "    <tr>\n",
              "      <th>57</th>\n",
              "      <td>2020-08-14</td>\n",
              "      <td>1515.660034</td>\n",
              "      <td>1521.900024</td>\n",
              "      <td>1502.880005</td>\n",
              "      <td>1507.729980</td>\n",
              "      <td>1507.729980</td>\n",
              "      <td>1354800</td>\n",
              "    </tr>\n",
              "    <tr>\n",
              "      <th>58</th>\n",
              "      <td>2020-08-17</td>\n",
              "      <td>1514.670044</td>\n",
              "      <td>1525.609985</td>\n",
              "      <td>1507.969971</td>\n",
              "      <td>1517.979980</td>\n",
              "      <td>1517.979980</td>\n",
              "      <td>1378300</td>\n",
              "    </tr>\n",
              "    <tr>\n",
              "      <th>59</th>\n",
              "      <td>2020-08-18</td>\n",
              "      <td>1526.180054</td>\n",
              "      <td>1562.469971</td>\n",
              "      <td>1523.709961</td>\n",
              "      <td>1558.599976</td>\n",
              "      <td>1558.599976</td>\n",
              "      <td>2027100</td>\n",
              "    </tr>\n",
              "    <tr>\n",
              "      <th>60</th>\n",
              "      <td>2020-08-19</td>\n",
              "      <td>1553.310059</td>\n",
              "      <td>1573.680054</td>\n",
              "      <td>1543.949951</td>\n",
              "      <td>1547.530029</td>\n",
              "      <td>1547.530029</td>\n",
              "      <td>1660600</td>\n",
              "    </tr>\n",
              "    <tr>\n",
              "      <th>61</th>\n",
              "      <td>2020-08-20</td>\n",
              "      <td>1543.449951</td>\n",
              "      <td>1585.869995</td>\n",
              "      <td>1538.199951</td>\n",
              "      <td>1581.750000</td>\n",
              "      <td>1581.750000</td>\n",
              "      <td>1706900</td>\n",
              "    </tr>\n",
              "  </tbody>\n",
              "</table>\n",
              "<p>62 rows × 7 columns</p>\n",
              "</div>"
            ],
            "text/plain": [
              "          Date         Open         High  ...        Close    Adj Close   Volume\n",
              "0   2020-05-26  1437.270020  1441.000000  ...  1417.020020  1417.020020  2060600\n",
              "1   2020-05-27  1417.250000  1421.739990  ...  1417.839966  1417.839966  1685800\n",
              "2   2020-05-28  1396.859985  1440.839966  ...  1416.729980  1416.729980  1692200\n",
              "3   2020-05-29  1416.939941  1432.569946  ...  1428.920044  1428.920044  1838100\n",
              "4   2020-06-01  1418.390015  1437.959961  ...  1431.819946  1431.819946  1217100\n",
              "..         ...          ...          ...  ...          ...          ...      ...\n",
              "57  2020-08-14  1515.660034  1521.900024  ...  1507.729980  1507.729980  1354800\n",
              "58  2020-08-17  1514.670044  1525.609985  ...  1517.979980  1517.979980  1378300\n",
              "59  2020-08-18  1526.180054  1562.469971  ...  1558.599976  1558.599976  2027100\n",
              "60  2020-08-19  1553.310059  1573.680054  ...  1547.530029  1547.530029  1660600\n",
              "61  2020-08-20  1543.449951  1585.869995  ...  1581.750000  1581.750000  1706900\n",
              "\n",
              "[62 rows x 7 columns]"
            ]
          },
          "metadata": {
            "tags": []
          },
          "execution_count": 126
        }
      ]
    },
    {
      "cell_type": "code",
      "metadata": {
        "id": "5Pu2upO5eKV_",
        "colab_type": "code",
        "colab": {}
      },
      "source": [
        "# Create an empty list to store the independent and dependent data\n",
        "days = list()\n",
        "adj_close_prices = list()"
      ],
      "execution_count": 127,
      "outputs": []
    },
    {
      "cell_type": "code",
      "metadata": {
        "id": "3QeLkv1Vlmj_",
        "colab_type": "code",
        "colab": {
          "base_uri": "https://localhost:8080/",
          "height": 221
        },
        "outputId": "293d989c-a243-4443-80c0-e4a15d9ce954"
      },
      "source": [
        "# Get the date and the adjusted close price\n",
        "df_days = df.loc[:, 'Date']\n",
        "df_adj_close = df.loc[:,'Adj Close']\n",
        "df_days"
      ],
      "execution_count": 128,
      "outputs": [
        {
          "output_type": "execute_result",
          "data": {
            "text/plain": [
              "0     2020-05-26\n",
              "1     2020-05-27\n",
              "2     2020-05-28\n",
              "3     2020-05-29\n",
              "4     2020-06-01\n",
              "         ...    \n",
              "57    2020-08-14\n",
              "58    2020-08-17\n",
              "59    2020-08-18\n",
              "60    2020-08-19\n",
              "61    2020-08-20\n",
              "Name: Date, Length: 62, dtype: object"
            ]
          },
          "metadata": {
            "tags": []
          },
          "execution_count": 128
        }
      ]
    },
    {
      "cell_type": "code",
      "metadata": {
        "id": "WNJqisDHlyRl",
        "colab_type": "code",
        "colab": {
          "base_uri": "https://localhost:8080/",
          "height": 34
        },
        "outputId": "dc4e3f7a-6a75-4054-d24f-389339a5ecf2"
      },
      "source": [
        "# Create the independent data set\n",
        "count = 0\n",
        "for day in df_days:\n",
        "  count = count + 1\n",
        "  days.append([count])\n",
        "  #days.append([int(day.split('-')[2])])\n",
        "\n",
        "# Create the dependent data set\n",
        "for adj_close_price in df_adj_close:\n",
        "  adj_close_prices.append(float(adj_close_price))\n",
        "\n",
        "days[3]"
      ],
      "execution_count": 129,
      "outputs": [
        {
          "output_type": "execute_result",
          "data": {
            "text/plain": [
              "[4]"
            ]
          },
          "metadata": {
            "tags": []
          },
          "execution_count": 129
        }
      ]
    },
    {
      "cell_type": "code",
      "metadata": {
        "id": "3QkF6rfImMke",
        "colab_type": "code",
        "colab": {
          "base_uri": "https://localhost:8080/",
          "height": 51
        },
        "outputId": "d5bca927-3f54-492a-e1ce-852f3ff46aea"
      },
      "source": [
        "# Create the 3 Support Vector Regression Model\n",
        "\n",
        "# Create a train a SVR model using a linera kernel\n",
        "lin_svr = SVR(kernel='linear', C=1000.0)\n",
        "lin_svr.fit(days, adj_close_prices)\n",
        "\n",
        "# Create a train a SVR model using a linera kernel\n",
        "poly_svr = SVR(kernel='poly', C=1000.0, degree = 2)\n",
        "poly_svr.fit(days, adj_close_prices)\n",
        "\n",
        "# Create a train a SVR model using a linera kernel\n",
        "rbf_svr = SVR(kernel='rbf', C=1000.0, gamma=0.15)\n",
        "rbf_svr.fit(days, adj_close_prices)"
      ],
      "execution_count": 133,
      "outputs": [
        {
          "output_type": "execute_result",
          "data": {
            "text/plain": [
              "SVR(C=1000.0, cache_size=200, coef0=0.0, degree=3, epsilon=0.1, gamma=0.15,\n",
              "    kernel='rbf', max_iter=-1, shrinking=True, tol=0.001, verbose=False)"
            ]
          },
          "metadata": {
            "tags": []
          },
          "execution_count": 133
        }
      ]
    },
    {
      "cell_type": "code",
      "metadata": {
        "id": "xajwHmCFuEbm",
        "colab_type": "code",
        "colab": {
          "base_uri": "https://localhost:8080/",
          "height": 425
        },
        "outputId": "b80aa689-33cf-4e25-e9b1-c032bc23a6d3"
      },
      "source": [
        "# Plot the models on a graph to see which has the best fit to the original data\n",
        "plt.figure(figsize=(15,7))\n",
        "plt.scatter(days,adj_close_prices,color='black', label='Original Data')\n",
        "plt.plot(days, rbf_svr.predict(days), color='green', label='RBF Model')\n",
        "plt.plot(days, poly_svr.predict(days), color='orange', label='Polynomial Model')\n",
        "plt.plot(days, lin_svr.predict(days), color='purple', label='Linear Model')\n",
        "plt.legend()\n",
        "plt.show()"
      ],
      "execution_count": 134,
      "outputs": [
        {
          "output_type": "display_data",
          "data": {
            "image/png": "[encoded data removed]",
            "text/plain": [
              "<Figure size 1080x504 with 1 Axes>"
            ]
          },
          "metadata": {
            "tags": []
          }
        }
      ]
    },
    {
      "cell_type": "code",
      "metadata": {
        "id": "zkqCfkYSuvdl",
        "colab_type": "code",
        "colab": {
          "base_uri": "https://localhost:8080/",
          "height": 1000
        },
        "outputId": "7cc58960-b980-4691-afc0-937e4dfdb723"
      },
      "source": [
        "adj_close_prices"
      ],
      "execution_count": 104,
      "outputs": [
        {
          "output_type": "execute_result",
          "data": {
            "text/plain": [
              "[1146.209961,\n",
              " 1137.810059,\n",
              " 1132.119995,\n",
              " 1250.410034,\n",
              " 1239.410034,\n",
              " 1225.140015,\n",
              " 1216.680054,\n",
              " 1209.01001,\n",
              " 1193.98999,\n",
              " 1152.319946,\n",
              " 1169.949951,\n",
              " 1173.98999,\n",
              " 1204.800049,\n",
              " 1188.01001,\n",
              " 1174.709961,\n",
              " 1197.27002,\n",
              " 1164.290039,\n",
              " 1167.26001,\n",
              " 1177.599976,\n",
              " 1198.449951,\n",
              " 1182.689941,\n",
              " 1191.25,\n",
              " 1189.530029,\n",
              " 1151.290039,\n",
              " 1168.890015,\n",
              " 1167.839966,\n",
              " 1171.02002,\n",
              " 1192.849976,\n",
              " 1188.099976,\n",
              " 1168.390015,\n",
              " 1181.410034,\n",
              " 1211.380005,\n",
              " 1204.930054,\n",
              " 1204.410034,\n",
              " 1206.0,\n",
              " 1220.170044,\n",
              " 1234.25,\n",
              " 1239.560059,\n",
              " 1231.300049,\n",
              " 1229.150024,\n",
              " 1232.410034,\n",
              " 1238.709961,\n",
              " 1229.930054,\n",
              " 1234.030029,\n",
              " 1218.76001,\n",
              " 1246.52002,\n",
              " 1241.390015,\n",
              " 1225.089966,\n",
              " 1219.0,\n",
              " 1205.099976,\n",
              " 1176.630005,\n",
              " 1187.829956,\n",
              " 1209.0,\n",
              " 1207.680054,\n",
              " 1189.130005,\n",
              " 1202.310059,\n",
              " 1208.670044,\n",
              " 1215.449951,\n",
              " 1217.140015,\n",
              " 1243.01001,\n",
              " 1243.640015,\n",
              " 1253.069946,\n",
              " 1245.48999,\n",
              " 1246.150024,\n",
              " 1242.800049,\n",
              " 1259.130005,\n",
              " 1260.98999,\n",
              " 1265.130005,\n",
              " 1290.0,\n",
              " 1262.619995,\n",
              " 1261.290039,\n",
              " 1260.109985,\n",
              " 1273.73999,\n",
              " 1291.369995,\n",
              " 1292.030029,\n",
              " 1291.800049,\n",
              " 1308.859985,\n",
              " 1311.369995,\n",
              " 1299.189941,\n",
              " 1298.800049,\n",
              " 1298.0,\n",
              " 1311.459961,\n",
              " 1334.869995,\n",
              " 1320.699951,\n",
              " 1315.459961,\n",
              " 1303.050049,\n",
              " 1301.349976,\n",
              " 1295.339966,\n",
              " 1306.689941,\n",
              " 1313.550049,\n",
              " 1312.98999,\n",
              " 1304.959961,\n",
              " 1289.920044,\n",
              " 1295.280029,\n",
              " 1320.540039,\n",
              " 1328.130005,\n",
              " 1340.619995,\n",
              " 1343.560059,\n",
              " 1344.660034,\n",
              " 1345.02002,\n",
              " 1350.27002,\n",
              " 1347.829956,\n",
              " 1361.170044,\n",
              " 1355.119995,\n",
              " 1352.619995,\n",
              " 1356.040039,\n",
              " 1349.589966,\n",
              " 1348.839966,\n",
              " 1343.560059,\n",
              " 1360.400024,\n",
              " 1351.890015,\n",
              " 1336.140015,\n",
              " 1337.02002,\n",
              " 1367.369995,\n",
              " 1360.660034,\n",
              " 1394.209961,\n",
              " 1393.339966,\n",
              " 1404.319946,\n",
              " 1419.829956,\n",
              " 1429.72998,\n",
              " 1439.22998,\n",
              " 1430.880005,\n",
              " 1439.199951,\n",
              " 1451.699951,\n",
              " 1480.390015,\n",
              " 1484.400024,\n",
              " 1485.949951,\n",
              " 1486.650024,\n",
              " 1466.709961,\n",
              " 1433.900024,\n",
              " 1452.560059,\n",
              " 1458.630005,\n",
              " 1455.839966,\n",
              " 1434.22998,\n",
              " 1485.939941,\n",
              " 1447.069946,\n",
              " 1448.22998,\n",
              " 1476.22998,\n",
              " 1479.22998,\n",
              " 1508.680054,\n",
              " 1508.790039,\n",
              " 1518.27002,\n",
              " 1514.660034,\n",
              " 1520.73999,\n",
              " 1519.670044,\n",
              " 1526.689941,\n",
              " 1518.150024,\n",
              " 1485.109985,\n",
              " 1421.589966,\n",
              " 1388.449951,\n",
              " 1393.180054,\n",
              " 1318.089966,\n",
              " 1339.329956,\n",
              " 1389.109985,\n",
              " 1341.390015,\n",
              " 1386.52002,\n",
              " 1319.040039,\n",
              " 1298.410034,\n",
              " 1215.560059,\n",
              " 1280.390015,\n",
              " 1215.410034,\n",
              " 1114.910034,\n",
              " 1219.72998,\n",
              " 1084.329956,\n",
              " 1119.800049,\n",
              " 1096.800049,\n",
              " 1115.290039,\n",
              " 1072.319946,\n",
              " 1056.619995,\n",
              " 1134.459961,\n",
              " 1102.48999,\n",
              " 1161.75,\n",
              " 1110.709961,\n",
              " 1146.819946,\n",
              " 1162.810059,\n",
              " 1105.619995,\n",
              " 1120.839966,\n",
              " 1097.880005,\n",
              " 1186.920044,\n",
              " 1186.51001,\n",
              " 1210.280029,\n",
              " 1211.449951,\n",
              " 1217.560059,\n",
              " 1269.22998,\n",
              " 1262.469971,\n",
              " 1263.469971,\n",
              " 1283.25,\n",
              " 1266.609985,\n",
              " 1216.339966,\n",
              " 1263.209961,\n",
              " 1276.310059,\n",
              " 1279.310059,\n",
              " 1275.880005,\n",
              " 1233.670044,\n",
              " 1341.47998,\n",
              " 1348.660034,\n",
              " 1320.609985,\n",
              " 1326.800049,\n",
              " 1351.109985,\n",
              " 1347.300049,\n",
              " 1372.560059,\n",
              " 1388.369995,\n",
              " 1403.26001,\n",
              " 1375.73999,\n",
              " 1349.329956,\n",
              " 1356.130005,\n",
              " 1373.189941,\n",
              " 1383.939941,\n",
              " 1373.484985,\n",
              " 1406.719971,\n",
              " 1402.800049,\n",
              " 1410.420044,\n",
              " 1417.02002,\n",
              " 1417.839966,\n",
              " 1416.72998,\n",
              " 1428.920044,\n",
              " 1431.819946,\n",
              " 1439.219971,\n",
              " 1436.380005,\n",
              " 1412.180054,\n",
              " 1438.390015,\n",
              " 1446.609985,\n",
              " 1456.160034,\n",
              " 1465.849976,\n",
              " 1403.839966,\n",
              " 1413.180054,\n",
              " 1419.849976,\n",
              " 1442.719971,\n",
              " 1451.119995,\n",
              " 1435.959961,\n",
              " 1431.719971,\n",
              " 1451.859985,\n",
              " 1464.410034,\n",
              " 1431.969971,\n",
              " 1441.329956,\n",
              " 1359.900024,\n",
              " 1394.969971,\n",
              " 1413.609985,\n",
              " 1438.040039,\n",
              " 1464.699951,\n",
              " 1495.699951,\n",
              " 1485.180054,\n",
              " 1496.0,\n",
              " 1510.98999,\n",
              " 1541.73999,\n",
              " 1511.339966,\n",
              " 1520.579956,\n",
              " 1513.640015,\n",
              " 1518.0,\n",
              " 1515.550049,\n",
              " 1565.719971,\n",
              " 1558.420044,\n",
              " 1568.48999,\n",
              " 1515.680054,\n",
              " 1511.869995,\n",
              " 1530.199951,\n",
              " 1500.339966,\n",
              " 1522.02002,\n",
              " 1531.449951,\n",
              " 1482.959961,\n",
              " 1474.449951,\n",
              " 1464.969971,\n",
              " 1473.609985,\n",
              " 1500.099976,\n",
              " 1494.48999,\n",
              " 1496.099976,\n",
              " 1480.319946,\n",
              " 1506.619995,\n",
              " 1518.449951,\n",
              " 1507.72998,\n",
              " 1517.97998,\n",
              " 1558.599976,\n",
              " 1547.530029,\n",
              " 1581.75]"
            ]
          },
          "metadata": {
            "tags": []
          },
          "execution_count": 104
        }
      ]
    },
    {
      "cell_type": "code",
      "metadata": {
        "id": "Pufvlg2YMkgV",
        "colab_type": "code",
        "colab": {}
      },
      "source": [
        ""
      ],
      "execution_count": null,
      "outputs": []
    }
  ]
}